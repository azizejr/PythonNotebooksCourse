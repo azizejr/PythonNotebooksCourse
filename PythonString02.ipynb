{
 "cells": [
  {
   "cell_type": "markdown",
   "metadata": {},
   "source": [
    "# Strings\n",
    "### Métodos\n",
    "Métodos mais utilizados para manipulação de strings. Definição e exemplos de aplicação."
   ]
  },
  {
   "cell_type": "markdown",
   "metadata": {},
   "source": [
    "__s.capitalize( )__   Retorna uma nova string com a primeira letra em maiusculo."
   ]
  },
  {
   "cell_type": "code",
   "execution_count": 77,
   "metadata": {},
   "outputs": [
    {
     "name": "stdout",
     "output_type": "stream",
     "text": [
      "Era uma vez...\n"
     ]
    }
   ],
   "source": [
    "s = 'era uma vez...'\n",
    "a = s.capitalize()\n",
    "print a"
   ]
  },
  {
   "cell_type": "markdown",
   "metadata": {},
   "source": [
    "__s.center(width, char)__  Retorna uma nova string no tamanho width centralizada com espaços ou char preenchendo ambos o lados.\n"
   ]
  },
  {
   "cell_type": "code",
   "execution_count": 78,
   "metadata": {},
   "outputs": [
    {
     "name": "stdout",
     "output_type": "stream",
     "text": [
      "      Python e a melhor linguagem       \n",
      "******Python e a melhor linguagem*******\n"
     ]
    }
   ],
   "source": [
    "s = \"Python e a melhor linguagem\"\n",
    "#centralizado com espaços \n",
    "nova_string = s.center(40)\n",
    "print(nova_string)\n",
    "#centralizado com preenchimento de '*'\n",
    "nova_string = s.center(40,'*')\n",
    "print(nova_string)"
   ]
  },
  {
   "cell_type": "markdown",
   "metadata": {},
   "source": [
    "__s.ljust(width, char)__  Retorna uma nova string no tamanho width alinhada a esquerda e com espaços ou char preenchendo o restante à direita.\n"
   ]
  },
  {
   "cell_type": "code",
   "execution_count": 79,
   "metadata": {},
   "outputs": [
    {
     "name": "stdout",
     "output_type": "stream",
     "text": [
      "Python e a melhor linguagem e ja passou Java na quantidade de usuários desenvolvedores!\n",
      "Python e a melhor linguagem              e ja passou Java na quantidade de usuários desenvolvedores!\n",
      "Python e a melhor linguagem************* e ja passou Java na quantidade de usuários desenvolvedores!\n"
     ]
    }
   ],
   "source": [
    "s = \"Python e a melhor linguagem\"\n",
    "ss = \" e ja passou Java na quantidade de usuários desenvolvedores!\"\n",
    "\n",
    "# Concatenação simples \n",
    "print s + ss\n",
    "\n",
    "# Adicionando espaços a direita \n",
    "nova_string = s.ljust(40) + ss\n",
    "print(nova_string)\n",
    "\n",
    "# Adicionando '*' a direita \n",
    "nova_string = s.ljust(40,'*') + ss\n",
    "print(nova_string)"
   ]
  },
  {
   "cell_type": "markdown",
   "metadata": {},
   "source": [
    "__s.rjust()__  Retorna uma nova string no tamanho width alinhada a direita e com espaços ou char preenchendo o restante à esquerda."
   ]
  },
  {
   "cell_type": "code",
   "execution_count": 80,
   "metadata": {},
   "outputs": [
    {
     "name": "stdout",
     "output_type": "stream",
     "text": [
      "Python e a melhor linguagem e ja passou Java na quantidade de usuários desenvolvedores!\n",
      "             Python e a melhor linguagem e ja passou Java na quantidade de usuários desenvolvedores!\n",
      "*************Python e a melhor linguagem e ja passou Java na quantidade de usuários desenvolvedores!\n"
     ]
    }
   ],
   "source": [
    "s = \"Python e a melhor linguagem\"\n",
    "ss = \" e ja passou Java na quantidade de usuários desenvolvedores!\"\n",
    "\n",
    "# Concatenação simples \n",
    "print s + ss\n",
    "\n",
    "# Adicionando espaços a esquerda \n",
    "nova_string = s.rjust(40) + ss\n",
    "print(nova_string)\n",
    "\n",
    "# Adicionando '*' a esquerda \n",
    "nova_string = s.rjust(40,'*') + ss\n",
    "print(nova_string)"
   ]
  },
  {
   "cell_type": "markdown",
   "metadata": {},
   "source": [
    "__s.count(n,start, end)__ Retorna o número de ocorrências de n em s ou na fatia de s começado em 0 ou start finalizado em end ou len(s).\n"
   ]
  },
  {
   "cell_type": "code",
   "execution_count": 81,
   "metadata": {},
   "outputs": [
    {
     "name": "stdout",
     "output_type": "stream",
     "text": [
      "89\n",
      "1\n",
      "2\n",
      "4\n",
      "8\n"
     ]
    }
   ],
   "source": [
    "s = \"Python e a melhor linguagem e ja passou Java na quantidade de usuários desenvolvedores !\"\n",
    "# Contar a quantidade de 'a's dentro da frase acima\n",
    "print len(s)                       # tamanho da string inteira\n",
    "print s.count('a', 0, 10)          # contando do índice 0 ao 10\n",
    "print s.count('a', 0, 30)          # contando do índice 0 ao 30\n",
    "print s.count('a', 0, 40)          # contando do índice 0 ao 40\n",
    "print s.count('a', 0, 55)          # contando do índice 0 ao 55"
   ]
  },
  {
   "cell_type": "markdown",
   "metadata": {},
   "source": [
    "__s.find(t, start, end)__ Retorna a posição de t mais a esquerda em s ou na fatia começando por start e terminado em end. Se nada for encontrado retorna -1.\n"
   ]
  },
  {
   "cell_type": "code",
   "execution_count": 82,
   "metadata": {},
   "outputs": [
    {
     "name": "stdout",
     "output_type": "stream",
     "text": [
      "Tamanho da string = 20\n",
      "indice do primeiro a = 0\n",
      "indice do primeiro b = 5\n",
      "indice do primeiro c = 10\n",
      "indice do primeiro d = 15\n"
     ]
    }
   ],
   "source": [
    "s = \"aaaaabbbbbcccccddddd\"\n",
    "print (\"Tamanho da string = \" + str(len(s)))\n",
    "print (\"indice do primeiro a = %s\" %s.find('a', 0, 5))\n",
    "print (\"indice do primeiro b = %s\" %s.find('b', 0, 11))\n",
    "print (\"indice do primeiro c = %s\" %s.find('c', 0, 16))\n",
    "print (\"indice do primeiro d = %s\" %s.find('d', 0, 21))"
   ]
  },
  {
   "cell_type": "markdown",
   "metadata": {},
   "source": [
    "__s.rfind(t, start, end)__ O mesmo que find() porém buscando a partir da direita."
   ]
  },
  {
   "cell_type": "code",
   "execution_count": 83,
   "metadata": {},
   "outputs": [
    {
     "name": "stdout",
     "output_type": "stream",
     "text": [
      "Tamanho da string = 20\n",
      "indice do primeiro a = 4\n",
      "indice do primeiro b = 9\n",
      "indice do primeiro c = 14\n",
      "indice do primeiro d = 19\n"
     ]
    }
   ],
   "source": [
    "s = \"aaaaabbbbbcccccddddd\"\n",
    "print (\"Tamanho da string = \" + str(len(s)))\n",
    "print (\"indice do primeiro a = %s\" %s.rfind('a', 0, 5))\n",
    "print (\"indice do primeiro b = %s\" %s.rfind('b', 0, 11))\n",
    "print (\"indice do primeiro c = %s\" %s.rfind('c', 0, 16))\n",
    "print (\"indice do primeiro d = %s\" %s.rfind('d', 0, 20))"
   ]
  },
  {
   "cell_type": "markdown",
   "metadata": {},
   "source": [
    "__s.isalnum( )__\tRetorna True se s não for vazia e cada caractere de s é alfanumérico.\n"
   ]
  },
  {
   "cell_type": "code",
   "execution_count": 84,
   "metadata": {},
   "outputs": [
    {
     "name": "stdout",
     "output_type": "stream",
     "text": [
      "True\n",
      "True\n",
      "True\n",
      "False\n",
      "False\n",
      "False\n"
     ]
    }
   ],
   "source": [
    "s1 = \"0123456789\"       # todos numéricos\n",
    "s2 = \"abcdefghij\"       # todos letras do alfabeto\n",
    "s3 = \"0a2b3c4d5e\"       # numéros e letras do alfabeto\n",
    "s4 = \"!@#$%¨&*()\"       # todos catacteres especiais\n",
    "s5 = \"abcd1234!@#$\"     # Numéricos + caracteres especiais + Alfabeto\n",
    "s6 = \"\"                 # string vazia\n",
    "print s1.isalnum()\n",
    "print s2.isalnum()\n",
    "print s3.isalnum()\n",
    "print s4.isalnum()\n",
    "print s5.isalnum()\n",
    "print s6.isalnum()"
   ]
  },
  {
   "cell_type": "markdown",
   "metadata": {},
   "source": [
    "__s.isalpha( )__\tRetorna True se s não for vazia e cada caractere de s é uma letra.\n"
   ]
  },
  {
   "cell_type": "code",
   "execution_count": 86,
   "metadata": {},
   "outputs": [
    {
     "name": "stdout",
     "output_type": "stream",
     "text": [
      "False\n",
      "True\n",
      "False\n",
      "False\n",
      "False\n",
      "False\n"
     ]
    }
   ],
   "source": [
    "s1 = \"0123456789\"       # todos numéricos\n",
    "s2 = \"abcdefghij\"       # todos letras\n",
    "s3 = \"0a2b3c4d5e\"       # numéros e letras do alfabeto\n",
    "s5 = \"abcd1234!@#$\"     # Numéricos + caracteres especiais + Alfabeto\n",
    "s6 = \"\"                 # string vazia\n",
    "print s1.isalpha()\n",
    "print s2.isalpha()\n",
    "print s3.isalpha()\n",
    "print s4.isalpha()\n",
    "print s5.isalpha()\n",
    "print s6.isalpha()"
   ]
  },
  {
   "cell_type": "markdown",
   "metadata": {},
   "source": [
    "__s.isdecimal( )__ Retorna True se s não for vazia e cada caractere de s é um numérico Unicode.\n"
   ]
  },
  {
   "cell_type": "code",
   "execution_count": 93,
   "metadata": {},
   "outputs": [
    {
     "name": "stdout",
     "output_type": "stream",
     "text": [
      "True\n"
     ]
    }
   ],
   "source": [
    "s1 = u'1234567890'         # numero unicode\n",
    "print s1.isdecimal()"
   ]
  },
  {
   "cell_type": "code",
   "execution_count": 94,
   "metadata": {},
   "outputs": [
    {
     "ename": "AttributeError",
     "evalue": "'str' object has no attribute 'isdecimal'",
     "output_type": "error",
     "traceback": [
      "\u001b[0;31m---------------------------------------------------------------\u001b[0m",
      "\u001b[0;31mAttributeError\u001b[0m                Traceback (most recent call last)",
      "\u001b[0;32m<ipython-input-94-84b27c0f41a9>\u001b[0m in \u001b[0;36m<module>\u001b[0;34m()\u001b[0m\n\u001b[1;32m      1\u001b[0m \u001b[0ms2\u001b[0m \u001b[0;34m=\u001b[0m \u001b[0;34m'1234567890'\u001b[0m         \u001b[0;31m# numero string normal\u001b[0m\u001b[0;34m\u001b[0m\u001b[0m\n\u001b[0;32m----> 2\u001b[0;31m \u001b[0;32mprint\u001b[0m \u001b[0ms2\u001b[0m\u001b[0;34m.\u001b[0m\u001b[0misdecimal\u001b[0m\u001b[0;34m(\u001b[0m\u001b[0;34m)\u001b[0m\u001b[0;34m\u001b[0m\u001b[0m\n\u001b[0m",
      "\u001b[0;31mAttributeError\u001b[0m: 'str' object has no attribute 'isdecimal'"
     ]
    }
   ],
   "source": [
    "s2 = '1234567890'         # numero string normal\n",
    "print s2.isdecimal()"
   ]
  },
  {
   "cell_type": "markdown",
   "metadata": {},
   "source": [
    "__s.isdigit( )__ Retorna True se s não for vazia e cada caractere de s e é um numérico ASCII.\n"
   ]
  },
  {
   "cell_type": "code",
   "execution_count": 97,
   "metadata": {},
   "outputs": [
    {
     "name": "stdout",
     "output_type": "stream",
     "text": [
      "True\n",
      "False\n"
     ]
    }
   ],
   "source": [
    "s1 = '1234567890'         \n",
    "s2 = '1234abc90'  \n",
    "print s1.isdigit()\n",
    "print s2.isdigit()"
   ]
  },
  {
   "cell_type": "markdown",
   "metadata": {},
   "source": [
    "__s.islower()__\tRetorna True se s não for vazia e todos os caracteres estão em minusculas.\n"
   ]
  },
  {
   "cell_type": "code",
   "execution_count": 100,
   "metadata": {},
   "outputs": [
    {
     "name": "stdout",
     "output_type": "stream",
     "text": [
      "True\n",
      "False\n"
     ]
    }
   ],
   "source": [
    "s1 = 'esta frase está toda em caracteres minúsculos'         \n",
    "s2 = 'Esta Frase Tem Caracteres Maiúsculos'  \n",
    "print s1.islower()\n",
    "print s2.islower()"
   ]
  },
  {
   "cell_type": "markdown",
   "metadata": {},
   "source": [
    "__s.isupper()__\tRetorna True se s não for vazia e todos os caracteres estão em maiúscula.\n"
   ]
  },
  {
   "cell_type": "code",
   "execution_count": 102,
   "metadata": {},
   "outputs": [
    {
     "name": "stdout",
     "output_type": "stream",
     "text": [
      "True\n",
      "False\n",
      "False\n"
     ]
    }
   ],
   "source": [
    "s1 = 'ESTA FRASE ESTA ESCRITA EM CAIXA ALTA'         \n",
    "s2 = 'Esta Frase Contém Caracteres Maiúsculos'  \n",
    "s3 = 'esta frase só contém caracteres minúsculos'  \n",
    "print s1.isupper()\n",
    "print s2.isupper()\n",
    "print s3.isupper()"
   ]
  },
  {
   "cell_type": "markdown",
   "metadata": {},
   "source": [
    "__s.isspace()__\tRetorna True se s não for vazia e todos os caracteres são espaços.\n"
   ]
  },
  {
   "cell_type": "code",
   "execution_count": 105,
   "metadata": {},
   "outputs": [
    {
     "name": "stdout",
     "output_type": "stream",
     "text": [
      "False\n",
      "False\n",
      "True\n",
      "False\n"
     ]
    }
   ],
   "source": [
    "s1 = 'esta frase contém espaços'         \n",
    "s2 = 'estafrasenãocontémespacos'  \n",
    "s3 = '    '                        # somente espaços\n",
    "s4 = ''                            # caractere nulo\n",
    "print s1.isspace()\n",
    "print s2.isspace()\n",
    "print s3.isspace()\n",
    "print s4.isspace()"
   ]
  },
  {
   "cell_type": "markdown",
   "metadata": {},
   "source": [
    "__s.join(t)__\tFatia t é insere s entre cada pedaço de t, exemplo: s = ‘.’ t=’dois’ s.join(t)=’d.o.i.s’\n"
   ]
  },
  {
   "cell_type": "code",
   "execution_count": 119,
   "metadata": {},
   "outputs": [
    {
     "name": "stdout",
     "output_type": "stream",
     "text": [
      "e.s.t.a.f.r.a.s.e.c.o.n.t.e.m.e.s.p.a.c.o.s\n",
      "antes o tipo de s2 era: <type 'list'>\n",
      "agora o tipo de s2 é: <type 'str'>\n"
     ]
    }
   ],
   "source": [
    "# Inserindo um ponto entre as letras\n",
    "s1 = 'estafrasecontemespacos'  \n",
    "print \".\".join(s1)\n",
    "\n",
    "s2 = ['isso', 'é', 'uma', 'lista']\n",
    "print \"antes o tipo de s2 era: \" + str(type(s2))\n",
    "\n",
    "# transformando uma lista de strings em uma string\n",
    "s2 = \" \".join(s2)\n",
    "print \"agora o tipo de s2 é: \" + str(type(s2))"
   ]
  },
  {
   "cell_type": "markdown",
   "metadata": {},
   "source": [
    "__s.lower()__\tRetorna uma nova string toda em minusculas.\n"
   ]
  },
  {
   "cell_type": "code",
   "execution_count": 121,
   "metadata": {},
   "outputs": [
    {
     "name": "stdout",
     "output_type": "stream",
     "text": [
      "esta frase esta escrita em caixa alta\n",
      "esta frase contém caracteres maiúsculos\n"
     ]
    }
   ],
   "source": [
    "s1 = 'ESTA FRASE ESTA ESCRITA EM CAIXA ALTA'    \n",
    "s2 = 'Esta Frase Contém Caracteres Maiúsculos'  \n",
    "print s1.lower()\n",
    "print s2.lower()"
   ]
  },
  {
   "cell_type": "markdown",
   "metadata": {},
   "source": [
    "__s.upper()__\tRetorna uma nova string toda em maiúsculas.\n"
   ]
  },
  {
   "cell_type": "code",
   "execution_count": 124,
   "metadata": {},
   "outputs": [
    {
     "name": "stdout",
     "output_type": "stream",
     "text": [
      "ESTA FRASE SO CONTEM CARACTERES MINUSCULOS\n",
      "ESTA FRASE CONTEM CARACTERES MINUSCULOS\n"
     ]
    }
   ],
   "source": [
    "s1 = 'esta frase so contem caracteres minusculos'  \n",
    "s2 = 'Esta Frase Contem Caracteres Minusculos'  \n",
    "print s1.upper()\n",
    "print s2.upper()"
   ]
  },
  {
   "cell_type": "markdown",
   "metadata": {},
   "source": [
    "__s.partition(t)__\tRetorna uma tupla de três strings a parte de s antes de t, t e e a parte de s depois de t.\n"
   ]
  },
  {
   "cell_type": "code",
   "execution_count": 129,
   "metadata": {},
   "outputs": [
    {
     "name": "stdout",
     "output_type": "stream",
     "text": [
      "('Python ', 'e ', 'divertido')\n",
      "('Python e divertido', '', '')\n",
      "('Python ', 'e', ' divertido, nao e ?')\n"
     ]
    }
   ],
   "source": [
    "s = (\"Python e divertido\")\n",
    "\n",
    "# 'é' é o separador neste caso\n",
    "print(s.partition('e '))\n",
    "\n",
    "# 'não' não foi enconrado como separador\n",
    "print(s.partition('nao '))\n",
    "\n",
    "s = \"Python e divertido, nao e ?\"\n",
    "\n",
    "# Divide na primeira ocorrência de 'é'\n",
    "print(s.partition('e'))"
   ]
  },
  {
   "cell_type": "markdown",
   "metadata": {},
   "source": [
    "__s.split(t, n)__\tRetorna uma lista de strings fragmentas pela string t no máximo n vezes. Se n não for dado fragmenta-se tudo. Se t não for dado fragmenta pelos espaços em branco.\n"
   ]
  },
  {
   "cell_type": "code",
   "execution_count": 139,
   "metadata": {},
   "outputs": [
    {
     "name": "stdout",
     "output_type": "stream",
     "text": [
      "['Python', 'e', 'a', 'melhor', 'linguagem', 'e', 'ja', 'passou', 'Java', 'na', 'quantidade', 'de', 'usuarios', 'desenvolvedores', '!']\n",
      "['Python', 'e', 'a', 'melhor linguagem e ja passou Java na quantidade de usuarios desenvolvedores !']\n",
      "['Python e ', ' melhor lingu', 'gem e j', ' p', 'ssou J', 'v', ' n', ' qu', 'ntid', 'de de usu', 'rios desenvolvedores !']\n"
     ]
    }
   ],
   "source": [
    "s = \"Python e a melhor linguagem e ja passou Java na quantidade de usuarios desenvolvedores !\" \n",
    "print s.split()\n",
    "print s.split(\" \", 3)\n",
    "print s.split(\"a\", 10)"
   ]
  },
  {
   "cell_type": "markdown",
   "metadata": {},
   "source": [
    "__s.splitlines(f)__\tRetorna um lista de strings fragmentadas no finalizador de linhas e sem os finalizadores ou com eles caso f seja True.\n"
   ]
  },
  {
   "cell_type": "code",
   "execution_count": 140,
   "metadata": {},
   "outputs": [
    {
     "data": {
      "text/plain": [
       "['Lorem ipsum dolor sit amet, consectetur adipiscing elit, sed do eiusmod tempor incididunt ut ',\n",
       " 'labore et dolore magna aliqua. Ut enim ad minim veniam, quis nostrud exercitation ullamco laboris ',\n",
       " 'nisi ut aliquip ex ea commodo consequat. Duis aute irure dolor in reprehenderit in voluptate velit ',\n",
       " 'esse cillum dolore eu fugiat nulla pariatur. Excepteur sint occaecat cupidatat non proident, ',\n",
       " 'sunt in culpa qui officia deserunt mollit anim id est laborum.']"
      ]
     },
     "execution_count": 140,
     "metadata": {},
     "output_type": "execute_result"
    }
   ],
   "source": [
    "s = '''Lorem ipsum dolor sit amet, consectetur adipiscing elit, sed do eiusmod tempor incididunt ut \n",
    "labore et dolore magna aliqua. Ut enim ad minim veniam, quis nostrud exercitation ullamco laboris \n",
    "nisi ut aliquip ex ea commodo consequat. Duis aute irure dolor in reprehenderit in voluptate velit \n",
    "esse cillum dolore eu fugiat nulla pariatur. Excepteur sint occaecat cupidatat non proident, \n",
    "sunt in culpa qui officia deserunt mollit anim id est laborum.\n",
    "'''\n",
    "s.splitlines()"
   ]
  },
  {
   "cell_type": "markdown",
   "metadata": {},
   "source": [
    "__s.strip(t)__\tRetorna uma nova string retirando os caracteres de espaço a direita e a esquerda ou se for dado os caracteres em t.\n"
   ]
  },
  {
   "cell_type": "code",
   "execution_count": 148,
   "metadata": {},
   "outputs": [
    {
     "data": {
      "text/plain": [
       "'esta frase tem espaco a direita e a esquerda'"
      ]
     },
     "execution_count": 148,
     "metadata": {},
     "output_type": "execute_result"
    }
   ],
   "source": [
    "s = \"      esta frase tem espaco a direita e a esquerda       \"\n",
    "s.strip()"
   ]
  },
  {
   "cell_type": "markdown",
   "metadata": {},
   "source": [
    "__s.lstrip(chars)__\tRetorna uma nova string retirando os caracteres de espaço a a esquerda ou se for dado os caracteres em chars.\n"
   ]
  },
  {
   "cell_type": "code",
   "execution_count": 150,
   "metadata": {},
   "outputs": [
    {
     "data": {
      "text/plain": [
       "'retirando caracteres a esqueda desta frase       '"
      ]
     },
     "execution_count": 150,
     "metadata": {},
     "output_type": "execute_result"
    }
   ],
   "source": [
    "s = \"      retirando caracteres a esqueda desta frase       \"\n",
    "s.lstrip()"
   ]
  },
  {
   "cell_type": "markdown",
   "metadata": {},
   "source": [
    "__s.rstrip(chars)__\tRetorna uma nova string retirando os caracteres de espaço a a direita ou se for dado os caracteres em chars.\n"
   ]
  },
  {
   "cell_type": "code",
   "execution_count": 152,
   "metadata": {},
   "outputs": [
    {
     "data": {
      "text/plain": [
       "'      retirando caracteres a direita desta frase'"
      ]
     },
     "execution_count": 152,
     "metadata": {},
     "output_type": "execute_result"
    }
   ],
   "source": [
    "s = \"      retirando caracteres a direita desta frase       \"\n",
    "s.rstrip()"
   ]
  },
  {
   "cell_type": "markdown",
   "metadata": {},
   "source": [
    "__s.swapcase()__\tRetorna uma nova string trocando maiúsculas por minusculas e vice versa.\n"
   ]
  },
  {
   "cell_type": "code",
   "execution_count": 155,
   "metadata": {},
   "outputs": [
    {
     "name": "stdout",
     "output_type": "stream",
     "text": [
      "vAmOs tRoCaR mAiUsCuLaS pOr MiNuScUlAs\n",
      "TODAS SAO MINUSCULAS\n",
      "todas sao maiusculas\n"
     ]
    }
   ],
   "source": [
    "s1 = \"VaMoS TrOcAr MaIuScUlAs PoR mInUsCuLaS\"\n",
    "s2 = \"todas sao minusculas\"\n",
    "s3 = \"TODAS SAO MAIUSCULAS\"\n",
    "print s1.swapcase()\n",
    "print s2.swapcase()\n",
    "print s3.swapcase()"
   ]
  },
  {
   "cell_type": "markdown",
   "metadata": {},
   "source": [
    "__s.title()__\tRetorna uma nova string com a primeira letra de cada palavra em maiúscula.\n"
   ]
  },
  {
   "cell_type": "code",
   "execution_count": 157,
   "metadata": {},
   "outputs": [
    {
     "data": {
      "text/plain": [
       "'Transformando As Primeiras Letras Das Palavras Em Maiusculas'"
      ]
     },
     "execution_count": 157,
     "metadata": {},
     "output_type": "execute_result"
    }
   ],
   "source": [
    "s = \"transformando as primeiras letras das palavras em maiusculas\"\n",
    "s.title()"
   ]
  },
  {
   "cell_type": "markdown",
   "metadata": {},
   "source": [
    "__s.zfill(n)__\tRetorna uma nova string em que se s for menor que n o que estiver a esquerda e substituído por zeros."
   ]
  },
  {
   "cell_type": "code",
   "execution_count": 164,
   "metadata": {},
   "outputs": [
    {
     "name": "stdout",
     "output_type": "stream",
     "text": [
      "tamanho da palavra 7\n",
      "0palavra\n",
      "000palavra\n",
      "00000palavra\n"
     ]
    }
   ],
   "source": [
    "s = \"palavra\"\n",
    "print \"tamanho da palavra \" + str(len(s))\n",
    "\n",
    "espaco_requerido_1 = 8\n",
    "espaco_requerido_2 = 10\n",
    "espaco_requerido_3 = 12\n",
    "#preenchendo a diferença de espaços com 0\n",
    "print s.zfill(espaco_requerido_1)\n",
    "print s.zfill(espaco_requerido_2)\n",
    "print s.zfill(espaco_requerido_3)"
   ]
  },
  {
   "cell_type": "markdown",
   "metadata": {},
   "source": [
    "### Keywords Python"
   ]
  },
  {
   "cell_type": "markdown",
   "metadata": {},
   "source": [
    "|  Palavras | reservadas | do        |  Python   |       |\n",
    "| --------- | ---------- | --------- | --------- | ------|\n",
    "|<center>False      |await       |else       |import     |pass   |\n",
    "|<center>None       |break       |except     |in         |raise  |\n",
    "|<center>True       |class       |finally    |is         |return |\n",
    "|<center>and        |continue    |for        |lambda     |try    |\n",
    "|<center>as         |def         |from       |nonlocal   |while  |\n",
    "|assert     |del         |global     |not        |with   |\n",
    "|async      |elif        |if         |or         |yield  |"
   ]
  }
 ],
 "metadata": {
  "kernelspec": {
   "display_name": "PySpark",
   "language": "python",
   "name": "pyspark"
  },
  "language_info": {
   "codemirror_mode": {
    "name": "ipython",
    "version": 2
   },
   "file_extension": ".py",
   "mimetype": "text/x-python",
   "name": "python",
   "nbconvert_exporter": "python",
   "pygments_lexer": "ipython2",
   "version": "2.7.5"
  }
 },
 "nbformat": 4,
 "nbformat_minor": 2
}
