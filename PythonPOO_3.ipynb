{
 "cells": [
  {
   "cell_type": "markdown",
   "metadata": {},
   "source": [
    "# Programação Orientada a Objetos"
   ]
  },
  {
   "cell_type": "markdown",
   "metadata": {},
   "source": [
    "## Agrupando funções individuais em classes"
   ]
  },
  {
   "cell_type": "markdown",
   "metadata": {},
   "source": [
    "Vamos colocar as mãos na massa!\n",
    "\n",
    "No exemplo abaixo temos funções que desempenham tarefas bem específicas, elas podem ser usadas uma ou mais vezes durante a execução do código. Perceba o que cada função faz: \n",
    "\n",
    "- Se ela é um __procedimento__ (realiza algo, mas não devolve nada) ou uma __função__ (devolve um valor);\n",
    "- Quais parâmetros ela recebe (quantidade, tipo de dado ou nenhum);\n",
    "- Se o código dela depende de outro método já definido;\n",
    "- Se seus atributos ou métodos são públicos ou privados;\n",
    "- Se ela manipula variáveis globais ou variáveis locais.\n",
    "- Se utiliza algum módulo padrão ou customizado."
   ]
  },
  {
   "cell_type": "code",
   "execution_count": 1,
   "metadata": {},
   "outputs": [],
   "source": [
    "# O exemplo abaixo mostra a criação da superclasse Veiculo que é uma classe mais abrangente. Veículos em geral\n",
    "# podem realizar funções como: acelerar, frear, virar à direita, virar à esquerda. Carros podem ter 2 ou 4 portas,\n",
    "# motos não possuem nenhuma porta, ônibus e caminhões podem ter quantidades variáveis. \n",
    "\n",
    "class Veiculo(object):\n",
    "    \n",
    "    def __init__(self):        \n",
    "        self.velocidade = ''\n",
    "        self.nPortasPossiveis = [0, 2, 4]\n",
    "        self.nPortas = 0           \n",
    "    \n",
    "    def numPortas(self, n):\n",
    "        if n in self.nPortasPossiveis:\n",
    "            self.nPortas = n\n",
    "            print \"Seu carro tem %d portas\" %n\n",
    "        else:\n",
    "            print \"Numero de portas invalido, favor inserir 2 ou 4 portas\"    \n",
    "    \n",
    "    def acelerar(self, velocidade):         \n",
    "        if velocidade > 60.0:\n",
    "            print \"Muito rapido diminua um pouco\"\n",
    "        else:\n",
    "            self.velocidade = velocidade\n",
    "            print \"Nova velocidade %.2f km/h\" %velocidade    \n",
    "    \n",
    "    def frear(self):         \n",
    "        if self.velocidade == 0:\n",
    "            print \"Você ja esta parado! tire o pé do Freio\"\n",
    "        else:\n",
    "            from time import sleep\n",
    "            if self.velocidade <= 50:\n",
    "                slp = 0.25\n",
    "            else:\n",
    "                slp = 1        \n",
    "            while self.velocidade > 0:\n",
    "                self.velocidade -= 5\n",
    "                sleep(slp)\n",
    "                print(\"Reduzindo para %d km\\\\h\" %self.velocidade)               \n",
    "        \n",
    "    def virarDireita(self, vel):        \n",
    "        if self.velocidade == 0:\n",
    "            print \"Você ja esta parado! tire o pé do Freio\"\n",
    "        else:\n",
    "            self.frear()\n",
    "            print \"Você virou a direita\"\n",
    "            self.acelerar(vel)        \n",
    "        \n",
    "    def virarEsquerda(self, vel):        \n",
    "        if self.velocidade == 0:\n",
    "            print \"Você ja esta parado! tire o pé do Freio\"\n",
    "        else:\n",
    "            self.frear()\n",
    "            print \"Você virou a esquerda\"\n",
    "            self.acelerar(vel)"
   ]
  },
  {
   "cell_type": "code",
   "execution_count": 2,
   "metadata": {},
   "outputs": [
    {
     "name": "stdout",
     "output_type": "stream",
     "text": [
      "Seu carro tem 4 portas\n",
      "Nova velocidade 30.00 km/h\n",
      "Reduzindo para 25 km\\h\n",
      "Reduzindo para 20 km\\h\n",
      "Reduzindo para 15 km\\h\n",
      "Reduzindo para 10 km\\h\n",
      "Reduzindo para 5 km\\h\n",
      "Reduzindo para 0 km\\h\n",
      "Você virou a direita\n",
      "Nova velocidade 30.00 km/h\n",
      "Reduzindo para 25 km\\h\n",
      "Reduzindo para 20 km\\h\n",
      "Reduzindo para 15 km\\h\n",
      "Reduzindo para 10 km\\h\n",
      "Reduzindo para 5 km\\h\n",
      "Reduzindo para 0 km\\h\n",
      "Você virou a esquerda\n",
      "Nova velocidade 40.00 km/h\n",
      "Reduzindo para 35 km\\h\n",
      "Reduzindo para 30 km\\h\n",
      "Reduzindo para 25 km\\h\n",
      "Reduzindo para 20 km\\h\n",
      "Reduzindo para 15 km\\h\n",
      "Reduzindo para 10 km\\h\n",
      "Reduzindo para 5 km\\h\n",
      "Reduzindo para 0 km\\h\n"
     ]
    }
   ],
   "source": [
    "# Exemplos de ações que podem ser usadas com as instâncias de Veículos:\n",
    "carro = Veiculo()            # Instanciando um Fiat Uno\n",
    "carro.numPortas(4)           # Definindo o número de portas do veiculo\n",
    "carro.acelerar(30)           # Acelerando para 30Km/h\n",
    "carro.virarDireita(30)       # Virando a direita e retomando a velocidade de 30Km/h\n",
    "carro.virarEsquerda(40)      # Virando a esquerda e retomando a velocidade de 40Km/h\n",
    "carro.frear()                # Freando"
   ]
  },
  {
   "cell_type": "markdown",
   "metadata": {},
   "source": [
    "No exemplo acima criamos a classe genérica __Veiculo__, para ilustrar algumas ações e atributos que diversos veículos têm em comum. Abaixo, criamos uma classe __Carro__ que é uma subclasse da classe __Veículo__ com características próprias aos objetos que serão instanciados."
   ]
  },
  {
   "cell_type": "code",
   "execution_count": 3,
   "metadata": {},
   "outputs": [],
   "source": [
    "class Carro(Veiculo):\n",
    "    \n",
    "    # metodo construtor\n",
    "    def __init__(self, mrc, mdl, cor):\n",
    "        super(Carro, self).__init__()\n",
    "        self.marca = mrc\n",
    "        self.modelo = mdl\n",
    "        self.cor = cor\n",
    "        self.carroLigado = False\n",
    "        self.cinto = False\n",
    "        self.portaAberta = []        \n",
    "\n",
    "    def __validaPortas(self, n):\n",
    "        return n <= 0 or n > self.nPortas\n",
    "                \n",
    "    def colocarCinto(self):\n",
    "        if self.cinto == True:\n",
    "            print \"Você ja está com o cinto!\"\n",
    "        else: \n",
    "            self.cinto = True\n",
    "            print \"Você acabou de colocar o cinto!\"        \n",
    "    \n",
    "    def tirarCinto(self):\n",
    "        if self.cinto == False:\n",
    "            print \"Você ja está sem cinto\"\n",
    "        else: \n",
    "            self.cinto = False\n",
    "            print \"Você acabou de tirar o cinto!\"        \n",
    "        \n",
    "    def ligarCarro(self):\n",
    "        if self.cinto == False:\n",
    "            print \"Coloque o cinto antes de dar partida!\"\n",
    "        else:\n",
    "            self.carroLigado = True\n",
    "            print \"Você acabou de dar partida!\\n Boa viagem!\\n Dirija com segurança!\"    \n",
    "            \n",
    "    def abrirPorta(self, n):        \n",
    "        if self.carroLigado == True:\n",
    "            print \"Pare ou Desligue o carro antes de abrir a porta\"\n",
    "        elif self.__validaPortas(n):\n",
    "            print \"Este carro não tem esse numero de portas favor escolher um numero entre 1 e %d\" %self.nPortas\n",
    "        else:\n",
    "            if n not in self.portaAberta:\n",
    "                self.portaAberta.append(n)\n",
    "                print \"Voce abriu a porta %d\" %n\n",
    "            else:\n",
    "                print \"Esta porta ja esta aberta\"    \n",
    "                \n",
    "    # Método fecharPorta acessa o método privado __validaPortas para confirmar se a porta passada esta dentro das\n",
    "    # possibilidades existentes.\n",
    "    def fecharPorta(self, n):\n",
    "        if self.__validaPortas(n):\n",
    "            print \"Este carro não tem esse numero de portas favor escolher um numero entre 1 e %d\" %self.nPortas\n",
    "        else: \n",
    "            if self.portaAberta == [] or n not in self.portaAberta:\n",
    "                print \"Esta porta está fechada!\"\n",
    "            else:\n",
    "                if self.carroLigado == True:\n",
    "                    print \"Pare ou Desligue o carro antes de fechar a porta\"\n",
    "                else:\n",
    "                    self.portaAberta.remove(n)\n",
    "                    print \"Você fechou a porta %d\" %n\n",
    "                \n",
    "    def desligarCarro(self):\n",
    "        if self.carroLigado == False:\n",
    "            print \"O carro ja se encontra desligado\"\n",
    "        else:\n",
    "            self.carroLigado = False\n",
    "            print \"Você acabou de desligar o carro\"  \n",
    "    \n",
    "    # Métodos get e set como exemplo de modificadores de atributo\n",
    "    def setCor(self, cor):\n",
    "        self.cor = cor\n",
    "        \n",
    "    def getCor(self):\n",
    "        return self.cor"
   ]
  },
  {
   "cell_type": "code",
   "execution_count": 4,
   "metadata": {},
   "outputs": [],
   "source": [
    "# Criando uma instância de um Carro (Uno)\n",
    "uno = Carro(\"Fiat\",\"Uno\",\"Vermelho\")"
   ]
  },
  {
   "cell_type": "code",
   "execution_count": 5,
   "metadata": {},
   "outputs": [
    {
     "name": "stdout",
     "output_type": "stream",
     "text": [
      "Seu carro tem 4 portas\n"
     ]
    }
   ],
   "source": [
    "# Atribuindo o numero de portas ao carro\n",
    "uno.numPortas(4)"
   ]
  },
  {
   "cell_type": "code",
   "execution_count": 6,
   "metadata": {},
   "outputs": [
    {
     "ename": "AttributeError",
     "evalue": "'Carro' object has no attribute '__validaPortas'",
     "output_type": "error",
     "traceback": [
      "\u001b[0;31m----------------------------------------------------------------------\u001b[0m",
      "\u001b[0;31mAttributeError\u001b[0m                       Traceback (most recent call last)",
      "\u001b[0;32m<ipython-input-6-ee1a189c89fc>\u001b[0m in \u001b[0;36m<module>\u001b[0;34m()\u001b[0m\n\u001b[0;32m----> 1\u001b[0;31m \u001b[0muno\u001b[0m\u001b[0;34m.\u001b[0m\u001b[0m__validaPortas\u001b[0m\u001b[0;34m(\u001b[0m\u001b[0;36m5\u001b[0m\u001b[0;34m)\u001b[0m\u001b[0;34m\u001b[0m\u001b[0m\n\u001b[0m",
      "\u001b[0;31mAttributeError\u001b[0m: 'Carro' object has no attribute '__validaPortas'"
     ]
    }
   ],
   "source": [
    "uno.__validaPortas(5)"
   ]
  },
  {
   "cell_type": "markdown",
   "metadata": {},
   "source": [
    "O erro acima é produzido após o método privado <b>__validaPortas( )</b> ser acessado pelo usuário. O interpretador não dá acesso ao usuário para ele manipular este método."
   ]
  },
  {
   "cell_type": "code",
   "execution_count": 7,
   "metadata": {},
   "outputs": [
    {
     "name": "stdout",
     "output_type": "stream",
     "text": [
      "Fiat\n",
      "Uno\n",
      "Vermelho\n"
     ]
    }
   ],
   "source": [
    "# Exibindo os atributos da instância carro\n",
    "print uno.marca\n",
    "print uno.modelo\n",
    "print uno.cor"
   ]
  },
  {
   "cell_type": "code",
   "execution_count": 8,
   "metadata": {},
   "outputs": [
    {
     "name": "stdout",
     "output_type": "stream",
     "text": [
      "azul\n"
     ]
    }
   ],
   "source": [
    "# Alterando o atributo cor da instância Uno e retornando em uma variável\n",
    "uno.setCor(\"azul\")\n",
    "cor = uno.getCor()\n",
    "print cor"
   ]
  },
  {
   "cell_type": "code",
   "execution_count": 9,
   "metadata": {},
   "outputs": [
    {
     "name": "stdout",
     "output_type": "stream",
     "text": [
      "Voce abriu a porta 1\n"
     ]
    }
   ],
   "source": [
    "# abrindo a porta\n",
    "uno.abrirPorta(1)"
   ]
  },
  {
   "cell_type": "code",
   "execution_count": 10,
   "metadata": {},
   "outputs": [
    {
     "name": "stdout",
     "output_type": "stream",
     "text": [
      "Esta porta ja esta aberta\n"
     ]
    }
   ],
   "source": [
    "# Ops... esta porta já está aberta !\n",
    "uno.abrirPorta(1)"
   ]
  },
  {
   "cell_type": "code",
   "execution_count": 11,
   "metadata": {},
   "outputs": [
    {
     "name": "stdout",
     "output_type": "stream",
     "text": [
      "Você fechou a porta 1\n"
     ]
    }
   ],
   "source": [
    "# fechando a porta\n",
    "uno.fecharPorta(1)"
   ]
  },
  {
   "cell_type": "code",
   "execution_count": 12,
   "metadata": {},
   "outputs": [
    {
     "name": "stdout",
     "output_type": "stream",
     "text": [
      "Este carro não tem esse numero de portas favor escolher um numero entre 1 e 4\n",
      "Este carro não tem esse numero de portas favor escolher um numero entre 1 e 4\n",
      "Esta porta está fechada!\n",
      "Esta porta está fechada!\n",
      "Esta porta está fechada!\n",
      "Esta porta está fechada!\n",
      "Este carro não tem esse numero de portas favor escolher um numero entre 1 e 4\n"
     ]
    }
   ],
   "source": [
    "# Testando o método fechar a porta\n",
    "uno.fecharPorta(-1)\n",
    "uno.fecharPorta(0)\n",
    "uno.fecharPorta(1)\n",
    "uno.fecharPorta(2)\n",
    "uno.fecharPorta(3)\n",
    "uno.fecharPorta(4)\n",
    "uno.fecharPorta(5)"
   ]
  },
  {
   "cell_type": "code",
   "execution_count": 13,
   "metadata": {},
   "outputs": [
    {
     "name": "stdout",
     "output_type": "stream",
     "text": [
      "Coloque o cinto antes de dar partida!\n",
      "Você acabou de colocar o cinto!\n",
      "Você acabou de dar partida!\n",
      " Boa viagem!\n",
      " Dirija com segurança!\n"
     ]
    }
   ],
   "source": [
    "uno.ligarCarro()\n",
    "uno.colocarCinto()\n",
    "uno.ligarCarro()"
   ]
  },
  {
   "cell_type": "code",
   "execution_count": 14,
   "metadata": {},
   "outputs": [
    {
     "name": "stdout",
     "output_type": "stream",
     "text": [
      "Nova velocidade 50.00 km/h\n",
      "Reduzindo para 45 km\\h\n",
      "Reduzindo para 40 km\\h\n",
      "Reduzindo para 35 km\\h\n",
      "Reduzindo para 30 km\\h\n",
      "Reduzindo para 25 km\\h\n",
      "Reduzindo para 20 km\\h\n",
      "Reduzindo para 15 km\\h\n",
      "Reduzindo para 10 km\\h\n",
      "Reduzindo para 5 km\\h\n",
      "Reduzindo para 0 km\\h\n",
      "Você virou a direita\n",
      "Nova velocidade 30.00 km/h\n"
     ]
    }
   ],
   "source": [
    "uno.acelerar(50)\n",
    "uno.virarDireita(30)"
   ]
  },
  {
   "cell_type": "code",
   "execution_count": 15,
   "metadata": {},
   "outputs": [
    {
     "name": "stdout",
     "output_type": "stream",
     "text": [
      "Reduzindo para 25 km\\h\n",
      "Reduzindo para 20 km\\h\n",
      "Reduzindo para 15 km\\h\n",
      "Reduzindo para 10 km\\h\n",
      "Reduzindo para 5 km\\h\n",
      "Reduzindo para 0 km\\h\n",
      "Você virou a direita\n",
      "Nova velocidade 30.00 km/h\n"
     ]
    }
   ],
   "source": [
    "uno.virarDireita(30)"
   ]
  },
  {
   "cell_type": "code",
   "execution_count": 16,
   "metadata": {},
   "outputs": [
    {
     "name": "stdout",
     "output_type": "stream",
     "text": [
      "Reduzindo para 25 km\\h\n",
      "Reduzindo para 20 km\\h\n",
      "Reduzindo para 15 km\\h\n",
      "Reduzindo para 10 km\\h\n",
      "Reduzindo para 5 km\\h\n",
      "Reduzindo para 0 km\\h\n"
     ]
    }
   ],
   "source": [
    "uno.frear()"
   ]
  },
  {
   "cell_type": "code",
   "execution_count": 17,
   "metadata": {},
   "outputs": [
    {
     "name": "stdout",
     "output_type": "stream",
     "text": [
      "Você acabou de tirar o cinto!\n"
     ]
    }
   ],
   "source": [
    "uno.tirarCinto()"
   ]
  },
  {
   "cell_type": "code",
   "execution_count": 18,
   "metadata": {},
   "outputs": [
    {
     "name": "stdout",
     "output_type": "stream",
     "text": [
      "Você acabou de desligar o carro\n"
     ]
    }
   ],
   "source": [
    "uno.desligarCarro()"
   ]
  },
  {
   "cell_type": "code",
   "execution_count": 19,
   "metadata": {},
   "outputs": [
    {
     "name": "stdout",
     "output_type": "stream",
     "text": [
      "Voce abriu a porta 1\n"
     ]
    }
   ],
   "source": [
    "uno.abrirPorta(1)"
   ]
  },
  {
   "cell_type": "code",
   "execution_count": 20,
   "metadata": {},
   "outputs": [
    {
     "name": "stdout",
     "output_type": "stream",
     "text": [
      "Você fechou a porta 1\n"
     ]
    }
   ],
   "source": [
    "uno.fecharPorta(1)"
   ]
  },
  {
   "cell_type": "markdown",
   "metadata": {},
   "source": [
    "__Você chegou ao seu destino!__"
   ]
  }
 ],
 "metadata": {
  "kernelspec": {
   "display_name": "Python 2",
   "language": "python",
   "name": "python2"
  },
  "language_info": {
   "codemirror_mode": {
    "name": "ipython",
    "version": 2
   },
   "file_extension": ".py",
   "mimetype": "text/x-python",
   "name": "python",
   "nbconvert_exporter": "python",
   "pygments_lexer": "ipython2",
   "version": "2.7.5"
  }
 },
 "nbformat": 4,
 "nbformat_minor": 2
}
