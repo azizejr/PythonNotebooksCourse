{
 "cells": [
  {
   "cell_type": "markdown",
   "metadata": {},
   "source": [
    "# Strings\n",
    "### Conceitos, manipulações"
   ]
  },
  {
   "cell_type": "markdown",
   "metadata": {},
   "source": [
    "Strings são builtins para armazenar texto, são imutáveis, não é possível mudar, acrescentar ou retirar qualquer caractere de uma string. Para que isso seja possível, o Python precisa criar uma nova String."
   ]
  },
  {
   "cell_type": "code",
   "execution_count": 1,
   "metadata": {},
   "outputs": [],
   "source": [
    "# String_padrão:\n",
    "s = 'Esta é uma string padrão'\n",
    "# String unicode:\n",
    "u = u'Esta é üma String ünicode'\n",
    "# A string padrão pode ser convertida para unicode através da função unicode()"
   ]
  },
  {
   "cell_type": "code",
   "execution_count": 34,
   "metadata": {},
   "outputs": [
    {
     "ename": "NameError",
     "evalue": "name 'hello' is not defined",
     "output_type": "error",
     "traceback": [
      "\u001b[0;31m---------------------------------------------------------------\u001b[0m",
      "\u001b[0;31mNameError\u001b[0m                     Traceback (most recent call last)",
      "\u001b[0;32m<ipython-input-34-59a27d8382db>\u001b[0m in \u001b[0;36m<module>\u001b[0;34m()\u001b[0m\n\u001b[1;32m      2\u001b[0m \u001b[0ma\u001b[0m \u001b[0;34m=\u001b[0m \u001b[0;34m'a'\u001b[0m      \u001b[0;31m# isso também é uma string\u001b[0m\u001b[0;34m\u001b[0m\u001b[0m\n\u001b[1;32m      3\u001b[0m \u001b[0;34m\u001b[0m\u001b[0m\n\u001b[0;32m----> 4\u001b[0;31m \u001b[0ma\u001b[0m \u001b[0;34m=\u001b[0m \u001b[0mhello\u001b[0m    \u001b[0;31m# isso não é uma string\u001b[0m\u001b[0;34m\u001b[0m\u001b[0m\n\u001b[0m\u001b[1;32m      5\u001b[0m \u001b[0ma\u001b[0m \u001b[0;34m=\u001b[0m \u001b[0ma\u001b[0m        \u001b[0;31m# isso também não é uma string\u001b[0m\u001b[0;34m\u001b[0m\u001b[0m\n",
      "\u001b[0;31mNameError\u001b[0m: name 'hello' is not defined"
     ]
    }
   ],
   "source": [
    "a = 'hello'  # isso é uma string\n",
    "a = 'a'      # isso também é uma string\n",
    "\n",
    "a = hello    # isso não é uma string\n",
    "a = a        # isso também não é uma string"
   ]
  },
  {
   "cell_type": "code",
   "execution_count": 111,
   "metadata": {},
   "outputs": [
    {
     "name": "stdout",
     "output_type": "stream",
     "text": [
      "<type 'int'>\n",
      "<type 'float'>\n",
      "1\n",
      "1.2\n",
      "<type 'str'>\n",
      "<type 'str'>\n"
     ]
    }
   ],
   "source": [
    "# Transformando inteiros e fracionarios em Strings \n",
    "a = 1\n",
    "b = 1.2\n",
    "print type(a)\n",
    "print type(b)\n",
    "print str(a)\n",
    "print str(b)\n",
    "print type(str(a))\n",
    "print type(str(b))"
   ]
  },
  {
   "cell_type": "markdown",
   "metadata": {},
   "source": [
    "#### Inicialização de strings"
   ]
  },
  {
   "cell_type": "markdown",
   "metadata": {},
   "source": [
    "- Aspas simples ' ' ou duplas \" \"\n",
    "- Em várias linhas consecutivas, desde que seja entre três aspas simples ou duplas.\n",
    "- Sem expansão de caracteres (s = r'\\n', onde s conterá os caracteres \"\\\" e \"n\")"
   ]
  },
  {
   "cell_type": "code",
   "execution_count": 41,
   "metadata": {},
   "outputs": [
    {
     "name": "stdout",
     "output_type": "stream",
     "text": [
      "<type 'str'>\n",
      "<type 'str'>\n",
      "<type 'str'>\n",
      "\\n\n",
      "<type 'str'>\n",
      "\n",
      "\n",
      "<type 'str'>\n"
     ]
    }
   ],
   "source": [
    "a = 'Hello'\n",
    "b = \"Hello\"\n",
    "c = '''Lorem ipsum dolor sit amet, consectetur adipiscing elit, sed do eiusmod tempor incididunt ut \n",
    "labore et dolore magna aliqua. Ut enim ad minim veniam, quis nostrud exercitation ullamco laboris \n",
    "nisi ut aliquip ex ea commodo consequat. Duis aute irure dolor in reprehenderit in voluptate velit \n",
    "esse cillum dolore eu fugiat nulla pariatur. Excepteur sint occaecat cupidatat non proident, \n",
    "sunt in culpa qui officia deserunt mollit anim id est laborum.\n",
    "'''\n",
    "d = r'\\n'\n",
    "e = '\\n'\n",
    "print type(a)\n",
    "print type(b)\n",
    "print type(c)\n",
    "print d\n",
    "print type(d)\n",
    "print e\n",
    "print type(e)"
   ]
  },
  {
   "cell_type": "markdown",
   "metadata": {},
   "source": [
    "#### Strings como sequência de caracteres"
   ]
  },
  {
   "cell_type": "code",
   "execution_count": 81,
   "metadata": {},
   "outputs": [
    {
     "name": "stdout",
     "output_type": "stream",
     "text": [
      "H\n",
      "e\n",
      "l\n",
      "l\n",
      "o\n"
     ]
    }
   ],
   "source": [
    "# Strings são Iteráveis:\n",
    "a = \"Hello\"\n",
    "for i in a:\n",
    "    print i"
   ]
  },
  {
   "cell_type": "code",
   "execution_count": 10,
   "metadata": {},
   "outputs": [
    {
     "name": "stdout",
     "output_type": "stream",
     "text": [
      "H\n",
      "e\n",
      "l\n",
      "l\n",
      "o\n"
     ]
    }
   ],
   "source": [
    "# O acesso aos caracteres de uma string pode ser feito através de indices:\n",
    "x = 'Hello'\n",
    "print x[0]\n",
    "print x[1]\n",
    "print x[2]\n",
    "print x[3]\n",
    "print x[4]"
   ]
  },
  {
   "cell_type": "code",
   "execution_count": 11,
   "metadata": {},
   "outputs": [
    {
     "name": "stdout",
     "output_type": "stream",
     "text": [
      "Hello\n",
      "ello\n",
      "llo\n",
      "lo\n",
      "o\n"
     ]
    }
   ],
   "source": [
    "# Ou de fatias como uma lista:\n",
    "print x[0:]\n",
    "print x[1:]\n",
    "print x[2:]\n",
    "print x[3:]\n",
    "print x[4:]"
   ]
  },
  {
   "cell_type": "code",
   "execution_count": 15,
   "metadata": {},
   "outputs": [
    {
     "name": "stdout",
     "output_type": "stream",
     "text": [
      "\n",
      "H\n",
      "He\n",
      "Hel\n",
      "Hell\n",
      "Hello\n"
     ]
    }
   ],
   "source": [
    "print x[:0]\n",
    "print x[:1]\n",
    "print x[:2]\n",
    "print x[:3]\n",
    "print x[:4]\n",
    "print x[:5]"
   ]
  },
  {
   "cell_type": "code",
   "execution_count": 20,
   "metadata": {},
   "outputs": [
    {
     "name": "stdout",
     "output_type": "stream",
     "text": [
      "H\n",
      "He\n",
      "Hel\n",
      "\n",
      "e\n",
      "el\n",
      "ell\n"
     ]
    }
   ],
   "source": [
    "# Seleção entre indices:\n",
    "print x[0:1]\n",
    "print x[0:2]\n",
    "print x[0:3]\n",
    "print x[1:1]\n",
    "print x[1:2]\n",
    "print x[1:3]\n",
    "print x[1:4]"
   ]
  },
  {
   "cell_type": "code",
   "execution_count": 23,
   "metadata": {},
   "outputs": [
    {
     "name": "stdout",
     "output_type": "stream",
     "text": [
      "o\n",
      "lo\n",
      "llo\n",
      "ello\n",
      "Hello\n"
     ]
    }
   ],
   "source": [
    "# Começando de trás para frente:\n",
    "print x[-1:]\n",
    "print x[-2:]\n",
    "print x[-3:]\n",
    "print x[-4:]\n",
    "print x[-5:]"
   ]
  },
  {
   "cell_type": "markdown",
   "metadata": {},
   "source": [
    "### Operações básicas com Strings"
   ]
  },
  {
   "cell_type": "markdown",
   "metadata": {},
   "source": [
    "#### Concatenação"
   ]
  },
  {
   "cell_type": "code",
   "execution_count": 26,
   "metadata": {},
   "outputs": [
    {
     "name": "stdout",
     "output_type": "stream",
     "text": [
      "HelloWorld\n",
      "Hello World\n"
     ]
    }
   ],
   "source": [
    "# Através de atribuição simples:\n",
    "x = 'Hello' + 'World'\n",
    "print x\n",
    "x = 'Hello' + ' ' + 'World'\n",
    "print x"
   ]
  },
  {
   "cell_type": "code",
   "execution_count": 28,
   "metadata": {},
   "outputs": [
    {
     "name": "stdout",
     "output_type": "stream",
     "text": [
      "HelloWorld\n",
      "Hello World\n"
     ]
    }
   ],
   "source": [
    "# Através de atribuição de variáveis:\n",
    "x = \"Hello\"\n",
    "espc = ' '\n",
    "y = 'World'\n",
    "print x + y\n",
    "print x + espc + y"
   ]
  },
  {
   "cell_type": "code",
   "execution_count": 33,
   "metadata": {},
   "outputs": [
    {
     "name": "stdout",
     "output_type": "stream",
     "text": [
      "ha\n",
      "haha\n",
      "hahaha\n"
     ]
    }
   ],
   "source": [
    "# Através do operador *:\n",
    "x = 'ha'\n",
    "print x\n",
    "print x * 2\n",
    "print 'ha' * 3"
   ]
  },
  {
   "cell_type": "markdown",
   "metadata": {},
   "source": [
    "#### Caracteres de escape"
   ]
  },
  {
   "cell_type": "markdown",
   "metadata": {},
   "source": [
    "\\ '  -  Aspas simples<br>\n",
    "\\ \"  -  Aspas duplas<br>\n",
    "\\ \\  -  Barra invertida<br>\n",
    "\\ a  -  Campainha<br>\n",
    "\\ b  -  Espaço<br>\n",
    "\\ f  -  Quebra de página<br>\n",
    "\\ n  -  Caractere de fim de linha<br> \n",
    "\\ r  -  Carriage return<br>\n",
    "\\ t  -  Tabulação<br>\n",
    "\\ v  -  Tabulação vertical"
   ]
  },
  {
   "cell_type": "markdown",
   "metadata": {},
   "source": [
    "##### Avaliação de impressão de caracteres especiais x Strings"
   ]
  },
  {
   "cell_type": "code",
   "execution_count": 49,
   "metadata": {},
   "outputs": [
    {
     "name": "stdout",
     "output_type": "stream",
     "text": [
      "teste de aspas simples '\n"
     ]
    }
   ],
   "source": [
    "# Maneira correta de utilizar caracteres:\n",
    "print('teste de aspas simples \\'')"
   ]
  },
  {
   "cell_type": "code",
   "execution_count": 50,
   "metadata": {},
   "outputs": [
    {
     "ename": "SyntaxError",
     "evalue": "EOL while scanning string literal (<ipython-input-50-a74e41fa60f7>, line 1)",
     "output_type": "error",
     "traceback": [
      "\u001b[0;36m  File \u001b[0;32m\"<ipython-input-50-a74e41fa60f7>\"\u001b[0;36m, line \u001b[0;32m1\u001b[0m\n\u001b[0;31m    print('teste de aspas simples '')\u001b[0m\n\u001b[0m                                    ^\u001b[0m\n\u001b[0;31mSyntaxError\u001b[0m\u001b[0;31m:\u001b[0m EOL while scanning string literal\n"
     ]
    }
   ],
   "source": [
    "# Sem o caractere de escape, uma excessão de sintaxe é levantada:\n",
    "print('teste de aspas simples '')"
   ]
  },
  {
   "cell_type": "code",
   "execution_count": 53,
   "metadata": {},
   "outputs": [
    {
     "name": "stdout",
     "output_type": "stream",
     "text": [
      "\\ isto não é uma pasta\n"
     ]
    }
   ],
   "source": [
    "print('\\ Esta é a barra string')"
   ]
  },
  {
   "cell_type": "code",
   "execution_count": 60,
   "metadata": {},
   "outputs": [
    {
     "name": "stdout",
     "output_type": "stream",
     "text": [
      "\\ Esta é a barra com escape\n"
     ]
    }
   ],
   "source": [
    "print('\\\\ Esta é a barra com escape')"
   ]
  },
  {
   "cell_type": "code",
   "execution_count": 65,
   "metadata": {},
   "outputs": [
    {
     "data": {
      "text/plain": [
       "'\\n'"
      ]
     },
     "execution_count": 65,
     "metadata": {},
     "output_type": "execute_result"
    }
   ],
   "source": [
    "#interpretação literal de caracteres ASCII (inteiros):\n",
    "'\\012'"
   ]
  },
  {
   "cell_type": "code",
   "execution_count": 66,
   "metadata": {},
   "outputs": [
    {
     "data": {
      "text/plain": [
       "'\\n'"
      ]
     },
     "execution_count": 66,
     "metadata": {},
     "output_type": "execute_result"
    }
   ],
   "source": [
    "#interpretação literal de caracteres ASCII (hexadecimal):\n",
    "'\\x0A'"
   ]
  },
  {
   "cell_type": "code",
   "execution_count": 67,
   "metadata": {},
   "outputs": [
    {
     "data": {
      "text/plain": [
       "'a\\n\\tb'"
      ]
     },
     "execution_count": 67,
     "metadata": {},
     "output_type": "execute_result"
    }
   ],
   "source": [
    "'a\\n\\tb'"
   ]
  },
  {
   "cell_type": "code",
   "execution_count": 68,
   "metadata": {},
   "outputs": [
    {
     "name": "stdout",
     "output_type": "stream",
     "text": [
      "a\n",
      "\tb\n"
     ]
    }
   ],
   "source": [
    "print('a\\n\\tb')"
   ]
  },
  {
   "cell_type": "markdown",
   "metadata": {},
   "source": [
    "#### Interpolação de strings"
   ]
  },
  {
   "cell_type": "code",
   "execution_count": 83,
   "metadata": {},
   "outputs": [
    {
     "name": "stdout",
     "output_type": "stream",
     "text": [
      "tamanho da string Hello World = 11\n"
     ]
    }
   ],
   "source": [
    "x = \"Hello World\"\n",
    "print \"tamanho da string %s = %d\" %(x, len(x))"
   ]
  },
  {
   "cell_type": "markdown",
   "metadata": {},
   "source": [
    "#### Invertendo Strings"
   ]
  },
  {
   "cell_type": "code",
   "execution_count": 91,
   "metadata": {},
   "outputs": [
    {
     "name": "stdout",
     "output_type": "stream",
     "text": [
      "nohtyP\n",
      "sarvalap retrevni ed nohtyp od avitan amrof\n",
      "forma nativa do python de inverter palavras\n"
     ]
    }
   ],
   "source": [
    "# invertendo:\n",
    "x = 'Python'\n",
    "print x[::-1]\n",
    "x = 'forma nativa do python de inverter palavras'\n",
    "print x[::-1]\n",
    "\n",
    "# reinvertendo:\n",
    "x = x[::-1]\n",
    "print x[::-1]"
   ]
  },
  {
   "cell_type": "code",
   "execution_count": 108,
   "metadata": {},
   "outputs": [
    {
     "name": "stdout",
     "output_type": "stream",
     "text": [
      "amrof\n",
      "sarvalap\n"
     ]
    }
   ],
   "source": [
    "# Invertendo a primeira e a última palavra:\n",
    "x = 'forma nativa do python de inverter palavras'\n",
    "print x[0:5][::-1]\n",
    "print x[-8:][::-1]"
   ]
  }
 ],
 "metadata": {
  "kernelspec": {
   "display_name": "Python 2",
   "language": "python",
   "name": "python2"
  },
  "language_info": {
   "codemirror_mode": {
    "name": "ipython",
    "version": 2
   },
   "file_extension": ".py",
   "mimetype": "text/x-python",
   "name": "python",
   "nbconvert_exporter": "python",
   "pygments_lexer": "ipython2",
   "version": "2.7.5"
  }
 },
 "nbformat": 4,
 "nbformat_minor": 2
}
