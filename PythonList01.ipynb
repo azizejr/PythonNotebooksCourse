{
 "cells": [
  {
   "cell_type": "markdown",
   "metadata": {},
   "source": [
    "# Listas\n",
    "\n",
    "## Conceitos, manipulações\n",
    "<br>\n",
    "<div style=\"text-align: justify\">Uma lista é uma coleção ordenada e modificável. Em listas do Python são escritas com colchetes. A lista é um tipo de dados mais versátil disponível no Python, que pode ser escrito como uma lista de valores separados por vírgulas (itens). O importante sobre uma lista é que os itens em uma lista não precisam ser do mesmo tipo. Como uma string, uma lista é uma sequência de valores. Em uma string, os valores são caracteres; em uma lista, eles podem ser de qualquer tipo. Os valores em uma lista são chamados de elementos ou, às vezes, de itens.</div>\n",
    "\n",
    "- Qualquer expressão de número inteiro pode ser usada como um índice.\n",
    "- Se você tentar ler ou escrever um elemento que não existe, você recebe um IndexError.\n",
    "- Se um índice tiver um valor negativo, ele será contado a partir do final da lista."
   ]
  },
  {
   "cell_type": "markdown",
   "metadata": {},
   "source": [
    "## Listas como sequências\n",
    "\n",
    "O primeiro índice de uma lista é o inteiro <b>0</b> e o ultimo é o inteiro que equivale ao tamanho da lista menos um: <b>len(list) - 1</b>."
   ]
  },
  {
   "cell_type": "code",
   "execution_count": 1,
   "metadata": {},
   "outputs": [
    {
     "name": "stdout",
     "output_type": "stream",
     "text": [
      "[]\n"
     ]
    }
   ],
   "source": [
    "# criando uma lista vazia:\n",
    "lista = []\n",
    "print lista"
   ]
  },
  {
   "cell_type": "code",
   "execution_count": 2,
   "metadata": {},
   "outputs": [
    {
     "name": "stdout",
     "output_type": "stream",
     "text": [
      "[]\n"
     ]
    }
   ],
   "source": [
    "# esta notação possui o mesmo efeito que a anterior, a função list() retorna uma lista vazia:\n",
    "lista = list()\n",
    "print lista"
   ]
  },
  {
   "cell_type": "code",
   "execution_count": 3,
   "metadata": {},
   "outputs": [],
   "source": [
    "# exemplo, criando uma lista com múltiplos tipos de dados:\n",
    "\n",
    "lista = [\"um\", 1, 1.0, True, ['a', 1, 2.0], {'chave':'valor'}]\n",
    "\n",
    "# Uma lista dentro de outra lista se encontra aninhada."
   ]
  },
  {
   "cell_type": "code",
   "execution_count": 4,
   "metadata": {},
   "outputs": [
    {
     "name": "stdout",
     "output_type": "stream",
     "text": [
      "['um', 1, 1.0, True, ['a', 1, 2.0], {'chave': 'valor'}]\n",
      "Tamanho da lista = 6\n"
     ]
    }
   ],
   "source": [
    "# exibindo os valores de uma lista:\n",
    "print lista\n",
    "\n",
    "# exibindo o tamanho desta lista:\n",
    "print \"Tamanho da lista = %d\" % len(lista)"
   ]
  },
  {
   "cell_type": "markdown",
   "metadata": {},
   "source": [
    "## Acessando itens da lista\n",
    "\n",
    "Você acessa os itens da lista referindo-se ao número do índice."
   ]
  },
  {
   "cell_type": "code",
   "execution_count": 5,
   "metadata": {},
   "outputs": [
    {
     "name": "stdout",
     "output_type": "stream",
     "text": [
      "<type 'str'> um\n",
      "<type 'int'> 1\n",
      "<type 'float'> 1.0\n",
      "<type 'bool'> True\n",
      "<type 'list'> ['a', 1, 2.0]\n",
      "<type 'dict'> {'chave': 'valor'}\n"
     ]
    }
   ],
   "source": [
    "# Acessando os itens da lista e mostrando seus respectivos tipos de dados\n",
    "print type(lista[0]), lista[0]\n",
    "print type(lista[1]), lista[1]\n",
    "print type(lista[2]), lista[2]\n",
    "print type(lista[3]), lista[3]\n",
    "print type(lista[4]), lista[4]\n",
    "print type(lista[5]), lista[5]"
   ]
  },
  {
   "cell_type": "code",
   "execution_count": 6,
   "metadata": {},
   "outputs": [
    {
     "name": "stdout",
     "output_type": "stream",
     "text": [
      "<type 'dict'> {'chave': 'valor'}\n",
      "<type 'list'> ['a', 1, 2.0]\n",
      "<type 'bool'> True\n",
      "<type 'float'> 1.0\n",
      "<type 'int'> 1\n",
      "<type 'str'> um\n"
     ]
    }
   ],
   "source": [
    "# Acessando os itens da lista através de indices negativos e mostrando seus respectivos tipos de dados\n",
    "print type(lista[-1]), lista[-1]\n",
    "print type(lista[-2]), lista[-2]\n",
    "print type(lista[-3]), lista[-3]\n",
    "print type(lista[-4]), lista[-4]\n",
    "print type(lista[-5]), lista[-5]\n",
    "print type(lista[-6]), lista[-6]"
   ]
  },
  {
   "cell_type": "markdown",
   "metadata": {},
   "source": [
    "No exemplo abaixo, demonstramos como acessar um índice através de uma expressão que resulta em um número inteiro: "
   ]
  },
  {
   "cell_type": "code",
   "execution_count": 7,
   "metadata": {},
   "outputs": [
    {
     "name": "stdout",
     "output_type": "stream",
     "text": [
      "O primeiro item desta lista é o: um\n",
      "O ultimo item da lista é: {'chave': 'valor'}\n"
     ]
    }
   ],
   "source": [
    "# primeiro e últimos items:\n",
    "print \"O primeiro item desta lista é o: %s\\nO ultimo item da lista é: %s\"\\\n",
    "                                                            %(lista[len(lista) - len(lista)], str(lista[len(lista) - 1]))"
   ]
  },
  {
   "cell_type": "code",
   "execution_count": 8,
   "metadata": {},
   "outputs": [
    {
     "ename": "IndexError",
     "evalue": "list index out of range",
     "output_type": "error",
     "traceback": [
      "\u001b[0;31m-----------------------------------------------------------------\u001b[0m",
      "\u001b[0;31mIndexError\u001b[0m                      Traceback (most recent call last)",
      "\u001b[0;32m<ipython-input-8-f98223f8744f>\u001b[0m in \u001b[0;36m<module>\u001b[0;34m()\u001b[0m\n\u001b[1;32m      1\u001b[0m \u001b[0;31m# acessando um índice inexistente ocorrerá um erro de índice:\u001b[0m\u001b[0;34m\u001b[0m\u001b[0;34m\u001b[0m\u001b[0m\n\u001b[0;32m----> 2\u001b[0;31m \u001b[0mlista\u001b[0m\u001b[0;34m[\u001b[0m\u001b[0;36m7\u001b[0m\u001b[0;34m]\u001b[0m\u001b[0;34m\u001b[0m\u001b[0m\n\u001b[0m",
      "\u001b[0;31mIndexError\u001b[0m: list index out of range"
     ]
    }
   ],
   "source": [
    "# acessando um índice inexistente ocorrerá um erro de índice:\n",
    "lista[7]"
   ]
  },
  {
   "cell_type": "code",
   "execution_count": 9,
   "metadata": {},
   "outputs": [],
   "source": [
    "# Lista como Matriz bidimensional\n",
    "lista = [[1,0,0],[0,1,0],[0,0,1]]"
   ]
  },
  {
   "cell_type": "code",
   "execution_count": 10,
   "metadata": {},
   "outputs": [
    {
     "name": "stdout",
     "output_type": "stream",
     "text": [
      "3 [[1, 0, 0], [0, 1, 0], [0, 0, 1]]\n",
      "3 [1, 0, 0]\n",
      "3 [0, 1, 0]\n",
      "3 [0, 0, 1]\n"
     ]
    }
   ],
   "source": [
    "# Verificando o tamnho da lista principal e suas listas aninhadas:\n",
    "print len(lista), lista\n",
    "\n",
    "print len(lista[0]), lista[0]\n",
    "print len(lista[1]), lista[1]\n",
    "print len(lista[2]), lista[2]"
   ]
  },
  {
   "cell_type": "code",
   "execution_count": 11,
   "metadata": {},
   "outputs": [
    {
     "name": "stdout",
     "output_type": "stream",
     "text": [
      "tamanho da matriz =  3 x 3\n",
      "\n",
      "1 linha da matriz\n",
      "\n",
      "1\n",
      "0\n",
      "0\n",
      "\n",
      "2 linha da matriz\n",
      "\n",
      "0\n",
      "1\n",
      "0\n",
      "\n",
      "3 linha da matriz\n",
      "\n",
      "0\n",
      "0\n",
      "1\n",
      "\n"
     ]
    }
   ],
   "source": [
    "# acessando itens de uma lista aninhada como uma matrix i x j:\n",
    "tam = len(lista)\n",
    "print \"tamanho da matriz = \", tam, 'x', tam \n",
    "print\n",
    "for i in range(tam):\n",
    "    print i+1,\"linha da matriz\\n\"\n",
    "    for j in range(tam):\n",
    "        print lista[i][j]\n",
    "    print"
   ]
  },
  {
   "cell_type": "markdown",
   "metadata": {},
   "source": [
    "## Percorrendo uma lista\n",
    "\n",
    "A forma mais comum de percorrer uma lista é através de um loop (__for__ ou __while__):"
   ]
  },
  {
   "cell_type": "code",
   "execution_count": 12,
   "metadata": {},
   "outputs": [
    {
     "name": "stdout",
     "output_type": "stream",
     "text": [
      "[1, 0, 0]\n",
      "[0, 1, 0]\n",
      "[0, 0, 1]\n"
     ]
    }
   ],
   "source": [
    "# Iterando através do \"in\":\n",
    "for item in lista:\n",
    "    print item"
   ]
  },
  {
   "cell_type": "code",
   "execution_count": 13,
   "metadata": {},
   "outputs": [
    {
     "name": "stdout",
     "output_type": "stream",
     "text": [
      "[1, 0, 0]\n",
      "[0, 1, 0]\n",
      "[0, 0, 1]\n"
     ]
    }
   ],
   "source": [
    "# Iterando através de índices numéricos:\n",
    "for i in range(len(lista)):\n",
    "    print lista[i]"
   ]
  },
  {
   "cell_type": "markdown",
   "metadata": {},
   "source": [
    "Através da função __range()__ podemos usar expressões que devolvam índices numéricos para percorrer a lista, esses valores obrigatóriamente tem que ser menor ou igual ao tamanho do vetor.\n",
    "\n",
    "### Particularidades da função range( )"
   ]
  },
  {
   "cell_type": "code",
   "execution_count": 14,
   "metadata": {},
   "outputs": [
    {
     "name": "stdout",
     "output_type": "stream",
     "text": [
      "[0, 1, 2, 3, 4, 5, 6, 7, 8, 9]\n",
      "<type 'list'>\n"
     ]
    }
   ],
   "source": [
    "# Atribuindo o valor de retorno da função range à variável \"range_result\" considerando 10 itens.\n",
    "range_result = range(10)\n",
    "print(range_result)\n",
    "print(type(range_result))"
   ]
  },
  {
   "cell_type": "markdown",
   "metadata": {},
   "source": [
    "Repare que o tipo de dado de retorno da função __range( )__ é sempre uma lista que recebe o numero ___n___ elementos e devolve uma lista de tamanho ___n___ com elementos do 0 ao ___n - 1___.\n",
    "\n",
    "Esta função aceita os seguintes parâmetros: __range(ii, if, pa)__\n",
    "- ii: índice inicial\n",
    "- if: índice final\n",
    "- pa: passos dos índices\n",
    "\n",
    "O exemplo abaixo mostra como podemos exibir umaa lista em ordem crescente com a condição que quisermos:"
   ]
  },
  {
   "cell_type": "code",
   "execution_count": 15,
   "metadata": {},
   "outputs": [
    {
     "name": "stdout",
     "output_type": "stream",
     "text": [
      "True\n",
      "[2, 4, 6, 8]\n",
      "[1, 4, 7, 10, 13, 16, 19]\n"
     ]
    }
   ],
   "source": [
    "# mostrando resultados através de três passagens de parametros diferentes:\n",
    "print range(0, 10, 1) == range(0,10) == range(10)\n",
    "\n",
    "# Percorrer os índices a partir do 2 até o 10 de 2 em 2:\n",
    "print range(2, 10, 2)\n",
    "\n",
    "# Percorrer os índices a partir do 0 até o 20 de 3 em 3:\n",
    "print range(1, 20, 3)"
   ]
  },
  {
   "cell_type": "markdown",
   "metadata": {},
   "source": [
    "A mesma coisa, mas em ordem decrescente:"
   ]
  },
  {
   "cell_type": "code",
   "execution_count": 16,
   "metadata": {},
   "outputs": [
    {
     "name": "stdout",
     "output_type": "stream",
     "text": [
      "[10, 8, 6, 4]\n",
      "[20, 17, 14, 11, 8, 5, 2]\n"
     ]
    }
   ],
   "source": [
    "# Percorrer os índices a partir do 10 até o 2 de 2 em 2:\n",
    "print range(10, 2, -2)\n",
    "\n",
    "# Percorrer os índices a partir do 20 até o 0 de 3 em 3:\n",
    "print range(20, 1, -3)"
   ]
  },
  {
   "cell_type": "markdown",
   "metadata": {},
   "source": [
    "Reparem que os resultados são bem diferentes do esperado. Em teoria, as duas sequencias deveriam ser as mesmas em ordem invertidas, mas não é assim que funciona, pois, a função __range( )__ inicia com o índice que você inseriu no primeiro parâmetro, e percorre até o índice inserido no segundo parâmetro -1, no caso de ordem _crescente_, e +1 no _decrescente_. \n",
    "\n",
    "No primeiro exemplo ele começa no 2 > 4 > 6 > 8 > (10 - 1) = 9\n",
    "Como o ultimo elemento é o 9, neste caso ele para no 8 pois é o ultimo elemento quando saltamos de 2 em 2. \n",
    "\n",
    "No segundo exemplo ele começa no 10 > 8 > 6 > 4 > (2 + 1) = 3 \n",
    "Como o ultimo elemento é o 1, neste caso ele para no 2 pois é o ultimo elemento quando saltamos de 3 em 3. "
   ]
  },
  {
   "cell_type": "code",
   "execution_count": 17,
   "metadata": {},
   "outputs": [
    {
     "name": "stdout",
     "output_type": "stream",
     "text": [
      "Mas este sim!\n"
     ]
    }
   ],
   "source": [
    "# listas vazias não são percorridas\n",
    "for x in []:\n",
    "    print \"Nunca será executado este bloco...\"\n",
    "print \"Mas este sim!\""
   ]
  },
  {
   "cell_type": "markdown",
   "metadata": {},
   "source": [
    "## Operações com listas\n",
    "\n",
    "### Concatenação"
   ]
  },
  {
   "cell_type": "code",
   "execution_count": 18,
   "metadata": {},
   "outputs": [
    {
     "name": "stdout",
     "output_type": "stream",
     "text": [
      "[2, 4, 6, 1, 3, 5]\n"
     ]
    }
   ],
   "source": [
    "# O operador \"+\" concatena duas listas da mesma forma que uma string\n",
    "listaPar = [2,4,6]\n",
    "listaImpar = [1,3,5]\n",
    "listaTotal = listaPar + listaImpar\n",
    "print listaTotal"
   ]
  },
  {
   "cell_type": "code",
   "execution_count": 19,
   "metadata": {},
   "outputs": [
    {
     "name": "stdout",
     "output_type": "stream",
     "text": [
      "[1, 3, 5, 1, 3, 5, 1, 3, 5]\n"
     ]
    }
   ],
   "source": [
    "# O operador \"*\" cria 'n' listas concatenadas\n",
    "fator = 3\n",
    "listaTeste = [1,3,5]\n",
    "listaTotal = listaTeste * fator\n",
    "print listaTotal"
   ]
  },
  {
   "cell_type": "code",
   "execution_count": 20,
   "metadata": {},
   "outputs": [
    {
     "name": "stdout",
     "output_type": "stream",
     "text": [
      "[0, 0, 0, 0]\n",
      "[0, 1, 2, 3]\n"
     ]
    }
   ],
   "source": [
    "# exemplificando\n",
    "print [0] * 4\n",
    "print [0] + [1] + [2] + [3]"
   ]
  },
  {
   "cell_type": "markdown",
   "metadata": {},
   "source": [
    "### Fatiamento (substrings, Slices)"
   ]
  },
  {
   "cell_type": "code",
   "execution_count": 21,
   "metadata": {},
   "outputs": [
    {
     "name": "stdout",
     "output_type": "stream",
     "text": [
      "['1', '2', '3', '4', '5', '6']\n",
      "['1', '2', '3', '4', '5']\n",
      "['1', '2', '3', '4']\n",
      "['1', '2', '3']\n",
      "['1', '2']\n",
      "['1']\n",
      "[]\n"
     ]
    }
   ],
   "source": [
    "# o operador de fatiamento funciona tanto em strings como em listas:\n",
    "lista = ['1', '2', '3', '4', '5', '6']\n",
    "print lista[0:6]\n",
    "print lista[0:5]\n",
    "print lista[0:4]\n",
    "print lista[0:3]\n",
    "print lista[0:2]\n",
    "print lista[0:1]\n",
    "print lista[0:0]"
   ]
  },
  {
   "cell_type": "code",
   "execution_count": 22,
   "metadata": {},
   "outputs": [
    {
     "name": "stdout",
     "output_type": "stream",
     "text": [
      "['1', '2', '3', '4', '5', '6']\n"
     ]
    }
   ],
   "source": [
    "# no fatiamento, caso quisermos colocar nosso indice final maior do que o índice do último elemento, o interpretador\n",
    "# simplesmente exibirá do indice inicial ao final, não criando uma exceção ou erro.\n",
    "print lista[0:100]"
   ]
  },
  {
   "cell_type": "code",
   "execution_count": 23,
   "metadata": {},
   "outputs": [
    {
     "data": {
      "text/plain": [
       "['1', '2', '3', '4', '5', '6']"
      ]
     },
     "execution_count": 23,
     "metadata": {},
     "output_type": "execute_result"
    }
   ],
   "source": [
    "# Exibe a lista toda\n",
    "lista[:]"
   ]
  },
  {
   "cell_type": "code",
   "execution_count": 24,
   "metadata": {},
   "outputs": [
    {
     "name": "stdout",
     "output_type": "stream",
     "text": [
      "['1', 'dois', 'tres', '4', '5', '6']\n"
     ]
    }
   ],
   "source": [
    "# substituindo valores em uma faixa definida\n",
    "lista[1:3] = ['dois', 'tres']\n",
    "print lista"
   ]
  },
  {
   "cell_type": "code",
   "execution_count": 25,
   "metadata": {},
   "outputs": [
    {
     "data": {
      "text/plain": [
       "['6', '5', '4', 'tres', 'dois', '1']"
      ]
     },
     "execution_count": 25,
     "metadata": {},
     "output_type": "execute_result"
    }
   ],
   "source": [
    "# inversão da ordem dos itens da lista \n",
    "lista[::-1]"
   ]
  },
  {
   "cell_type": "markdown",
   "metadata": {},
   "source": [
    "Podemos passar listas como parametros de funções:"
   ]
  },
  {
   "cell_type": "code",
   "execution_count": 26,
   "metadata": {},
   "outputs": [
    {
     "name": "stdout",
     "output_type": "stream",
     "text": [
      "1\n"
     ]
    }
   ],
   "source": [
    "lista = ['1', '2', '3', '4', '5', '6']\n",
    "\n",
    "# função que retorna o primeiro item da lista\n",
    "def head(t):\n",
    "    return t[0:1][0]\n",
    "\n",
    "head = head(lista)\n",
    "print head"
   ]
  },
  {
   "cell_type": "markdown",
   "metadata": {},
   "source": [
    "### *args\n",
    "<br>\n",
    "<div style=\"text-align: justify\">O Python nos permite definir uma função com numero indefinido de argumentos. Isso ocorre através do operador *. No exemplo abaixo, temos uma lista na qual, colocamos argumentos que queremos passar para uma função ou método. Através do *args, passamos a lista com a a seguinte sintaxe:</div>\n",
    "\n",
    "__chamadaDafunção(*listaOuTupla)__\n",
    "\n",
    "onde:\n",
    "\n",
    "- __chamadaDafunção__: nome da função definida;\n",
    "- __( * )__: asterisco para definir que o que estamos passando são argumentos, e não uma lista;\n",
    "- __( *listaOuTupla )__: coleção de objetos sequenciais (tuplas ou listas) que conterão os argumentos que serão passados à função."
   ]
  },
  {
   "cell_type": "code",
   "execution_count": 27,
   "metadata": {},
   "outputs": [
    {
     "name": "stdout",
     "output_type": "stream",
     "text": [
      "Cada argumento passado à função através de uma lista:  arg1\n",
      "Cada argumento passado à função através de uma lista:  arg2\n",
      "Cada argumento passado à função através de uma lista:  arg3\n",
      "Cada argumento passado à função através de uma lista:  arg4\n",
      "None\n"
     ]
    }
   ],
   "source": [
    "# exemplo de aplicação de listas como argumentos:\n",
    "def funcaoTestaArgs(*args):\n",
    "    for a in args:\n",
    "        print \"Cada argumento passado à função através de uma lista: \", a        \n",
    "\n",
    "lista = ['arg1', 'arg2', 'arg3', 'arg4']\n",
    "\n",
    "print funcaoTestaArgs(*lista)"
   ]
  }
 ],
 "metadata": {
  "kernelspec": {
   "display_name": "Python 2",
   "language": "python",
   "name": "python2"
  },
  "language_info": {
   "codemirror_mode": {
    "name": "ipython",
    "version": 2
   },
   "file_extension": ".py",
   "mimetype": "text/x-python",
   "name": "python",
   "nbconvert_exporter": "python",
   "pygments_lexer": "ipython2",
   "version": "2.7.5"
  }
 },
 "nbformat": 4,
 "nbformat_minor": 2
}
