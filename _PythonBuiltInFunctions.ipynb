{
 "cells": [
  {
   "cell_type": "markdown",
   "metadata": {},
   "source": [
    "# Built in Functions\n",
    "\n",
    "O interpretador Python possui várias funções e tipos integrados que estão sempre disponíveis. Eles estão listados aqui em ordem alfabética."
   ]
  },
  {
   "cell_type": "markdown",
   "metadata": {},
   "source": [
    "__abs(x)__ - Retorna o valor absoluto de um número. O argumento pode ser um número inteiro ou um número de ponto flutuante. Se o argumento for um número complexo, sua magnitude será retornada."
   ]
  },
  {
   "cell_type": "code",
   "execution_count": null,
   "metadata": {},
   "outputs": [],
   "source": []
  },
  {
   "cell_type": "markdown",
   "metadata": {},
   "source": [
    "__all(iterable)__ - Retorna ```True``` se todos os elementos do iterável forem verdadeiros (ou se o iterável estiver vazio). Equivalente a:"
   ]
  },
  {
   "cell_type": "code",
   "execution_count": null,
   "metadata": {},
   "outputs": [],
   "source": []
  },
  {
   "cell_type": "markdown",
   "metadata": {},
   "source": [
    "__any(iterable)__ - Retorna ```True``` se qualquer elemento do iterável for verdadeiro. Se o iterável estiver vazio, retorne ```False```. Equivalente a:"
   ]
  },
  {
   "cell_type": "code",
   "execution_count": null,
   "metadata": {},
   "outputs": [],
   "source": []
  },
  {
   "cell_type": "markdown",
   "metadata": {},
   "source": [
    "__ascii(object)__ - Como repr (), retorna uma string contendo uma representação possível de ser exibida de um objeto, mas escape os caracteres não-ASCII na string retornada por repr () usando \\x, \\u ou \\U escapes. Isso gera uma string semelhante à retornada por repr () no Python 2."
   ]
  },
  {
   "cell_type": "code",
   "execution_count": null,
   "metadata": {},
   "outputs": [],
   "source": []
  },
  {
   "cell_type": "markdown",
   "metadata": {},
   "source": [
    "__bin(x)__ - Converta um valor para um booleano, usando o procedimento de teste de verdade padrão. Se x for falso ou omitido, isso retornará False; caso contrário, retorna True. O bool também é uma classe, que é uma subclasse de int (veja Tipos Numéricos - int, float, complex). Bool de classe não pode ser subclassificado ainda. Suas únicas instâncias são False e True (consulte Valores booleanos)."
   ]
  },
  {
   "cell_type": "code",
   "execution_count": null,
   "metadata": {},
   "outputs": [],
   "source": []
  },
  {
   "cell_type": "markdown",
   "metadata": {},
   "source": [
    "__bytearray([source[, encoding[, errors]]])__ - Retornar uma nova matriz de bytes. O tipo bytearray é uma sequência mutável de números inteiros no intervalo 0 <= x <256. Ele possui a maioria dos métodos usuais de seqüências mutáveis, descritos em Tipos de Sequências Mutáveis, assim como a maioria dos métodos que o tipo de bytes possui, consulte Bytes e Operações de Bytearray.\n",
    "\n",
    "O parâmetro opcional source pode ser usado para inicializar o array de algumas maneiras diferentes:\n",
    "\n",
    "- Se for uma string, você também deve fornecer os parâmetros de codificação (e, opcionalmente, erros); bytearray () então converte a string em bytes usando str.encode ().\n",
    "- Se for um inteiro, a matriz terá esse tamanho e será inicializada com bytes nulos.\n",
    "- Se for um objeto em conformidade com a interface do buffer, um buffer somente leitura do objeto será usado para inicializar o array de bytes.\n",
    "- Se for iterável, deve ser um iterável de inteiros no intervalo 0 <= x <256, que são usados como o conteúdo inicial da matriz.\n",
    "- Sem um argumento, uma matriz de tamanho 0 é criada."
   ]
  },
  {
   "cell_type": "code",
   "execution_count": null,
   "metadata": {},
   "outputs": [],
   "source": []
  },
  {
   "cell_type": "markdown",
   "metadata": {},
   "source": [
    "__bytes([source[, encoding[, errors]]])__ - Retorna um novo objeto “bytes”, que é uma sequência imutável de inteiros no intervalo 0 <= x <256. bytes é uma versão imutável de bytearray - possui os mesmos métodos não mutantes e o mesmo comportamento de indexação e fatiamento.\n",
    "\n",
    "Consequentemente, os argumentos do construtor são interpretados como por bytearray ().\n",
    "\n",
    "Objetos Bytes também podem ser criados com literais, veja literais String e Bytes."
   ]
  },
  {
   "cell_type": "code",
   "execution_count": null,
   "metadata": {},
   "outputs": [],
   "source": []
  },
  {
   "cell_type": "markdown",
   "metadata": {},
   "source": [
    "__callable(object)__ - Retorna ```True``` se o argumento do objeto aparecer chamavel, ```False``` se nao. Se isso retornar true, ainda é possível que uma chamada falhe, mas se for false, o objeto de chamada nunca será bem-sucedido. Note que classes são chamadas (chamar uma classe retorna uma nova instância); instâncias podem ser chamadas se sua classe tiver um método __call __ ()."
   ]
  },
  {
   "cell_type": "code",
   "execution_count": null,
   "metadata": {},
   "outputs": [],
   "source": []
  },
  {
   "cell_type": "markdown",
   "metadata": {},
   "source": [
    "__chr(i)__ - Retorna a string representando um caractere cujo ponto de código Unicode é o inteiro i . Por exemplo, chr (97) retorna a string 'a' . Este é o inverso de ord () . O intervalo válido para o argumento é de 0 a 1.114.111 (0x10FFFF na base 16). ValueError será gerado se eu estiver fora desse intervalo."
   ]
  },
  {
   "cell_type": "code",
   "execution_count": null,
   "metadata": {},
   "outputs": [],
   "source": []
  },
  {
   "cell_type": "markdown",
   "metadata": {},
   "source": [
    "__classmethod(function)__ - Retorna um método de classe para a função.\n",
    "\n",
    "Um método de classe recebe a classe como primeiro argumento implícito, assim como um método de instância recebe a instância. Para declarar um método de classe, use este idioma:\n",
    "```\n",
    "class  C : \n",
    "    @classmethod \n",
    "    def  f(cls, arg1, arg2, ...): ...\n",
    "```\n",
    "O formulário ```@classmethod``` é um decorador de funções - veja a descrição das definições de função em Definições de função para detalhes.\n",
    "\n",
    "Ele pode ser chamado na classe (como ```Cf ()``` ) ou em uma instância (como ```C ()```. ```F ()``` ). A instância é ignorada, exceto por sua classe. Se um método de classe é chamado para uma classe derivada, o objeto de classe derivada é passado como o primeiro argumento implícito."
   ]
  },
  {
   "cell_type": "code",
   "execution_count": null,
   "metadata": {},
   "outputs": [],
   "source": []
  },
  {
   "cell_type": "markdown",
   "metadata": {},
   "source": [
    "__compile(source, filename, mode, flags=0, dont_inherit=False, optimize=-1)__ - Compile a origem em um código ou objeto AST. Objetos de código podem ser executados por exec () ou eval () . source pode ser uma string normal, uma string de byte ou um objeto AST. Consulte a documentação do módulo ast para obter informações sobre como trabalhar com objetos AST.\n",
    "\n",
    "O argumento filename deve fornecer o arquivo do qual o código foi lido; passar algum valor reconhecível se não foi lido de um arquivo ( '<string>' é comumente usado).\n",
    "\n",
    "O argumento mode especifica que tipo de código deve ser compilado; pode ser 'exec' se a fonte consistir de uma sequência de declarações, 'eval' se consistir em uma única expressão ou 'single' se consistir em uma única instrução interativa (no último caso, instruções de expressão que avaliam algo diferente de Nenhum será impresso).\n",
    "\n",
    "Os argumentos opcionais flags e dont_inherit controlam quais declarações futurasPEP 236 ) afetam a compilação da fonte . Se nenhum dos dois estiver presente (ou ambos forem zero), o código é compilado com as instruções futuras que estão em vigor no código que está chamando a compilação. Se o argumento flags for dado e dont_inherit não for (ou for zero), as instruções futuras especificadas peloargumento flags serão usadas além daquelas que seriam usadas de qualquer maneira. Se dont_inherit for um inteiro diferente de zero, então oargumento flags é ele - as futuras instruções em vigor ao redor da chamada para compilar serão ignoradas.\n",
    "\n",
    "As declarações futuras são especificadas por bits que podem ser ORed bit a bit para especificar múltiplas instruções. O campo de bits necessário para especificar um determinado recurso pode ser encontrado como o atributo compiler_flag na instância _Feature no módulo __future__ .\n",
    "\n",
    "O argumento optimize especifica o nível de otimização do compilador; o valor padrão de -1 seleciona o nível de otimização do interpretador, conforme determinado pelas opções -O . Níveis explícitos são 0 (sem otimização; __debug__ é verdadeiro), 1 ( declarações são removidas, __debug__ é falso) ou 2 (docstrings são removidas também).\n",
    "\n",
    "Essa função gera SyntaxError se a origem compilada for inválida e TypeError se a origem contiver bytes nulos."
   ]
  },
  {
   "cell_type": "code",
   "execution_count": null,
   "metadata": {},
   "outputs": [],
   "source": []
  },
  {
   "cell_type": "markdown",
   "metadata": {},
   "source": [
    "__complex([real[, imag]])__ - Crie um número complexo com o valor real + imag * j ou converta uma string ou um número em um número complexo. Se o primeiro parâmetro for uma string, ele será interpretado como um número complexo e a função deve ser chamada sem um segundo parâmetro. O segundo parâmetro nunca pode ser uma string. Cada argumento pode ser qualquer tipo numérico (incluindo complexo). Se imag for omitido, o valor padrão é zero e a função serve como uma função de conversão numérica como int () e float () . Se ambos os argumentos forem omitidos, retornará 0j ."
   ]
  },
  {
   "cell_type": "code",
   "execution_count": null,
   "metadata": {},
   "outputs": [],
   "source": []
  },
  {
   "cell_type": "markdown",
   "metadata": {},
   "source": [
    "__delattr(object, name)__ - Este é um parente de setattr () . Os argumentos são um objeto e uma string. A string deve ser o nome de um dos atributos do objeto. A função exclui o atributo nomeado, desde que o objeto permita isso. Por exemplo, delattr (x, 'foobar') é equivalente a del x.foobar ."
   ]
  },
  {
   "cell_type": "code",
   "execution_count": null,
   "metadata": {},
   "outputs": [],
   "source": []
  },
  {
   "cell_type": "markdown",
   "metadata": {},
   "source": [
    "__dict(**kwarg)__<br>\n",
    "__dict(mapping, **kwarg)__<br>\n",
    "__dict(iterable, **kwarg)__ - Crie um novo dicionário. O objeto dict é a classe do dicionário. Veja dict e Tipos de Mapeamento - dict para documentação sobre esta classe."
   ]
  },
  {
   "cell_type": "code",
   "execution_count": null,
   "metadata": {},
   "outputs": [],
   "source": []
  },
  {
   "cell_type": "markdown",
   "metadata": {},
   "source": [
    "__dir([object])__ - Sem argumentos, retorne a lista de nomes no escopo local atual. Com um argumento, tente retornar uma lista de atributos válidos para esse objeto.\n",
    "\n",
    "Se o objeto tiver um método chamado __dir __ () , esse método será chamado e deverá retornar a lista de atributos. Isso permite que objetos que implementam uma função __getattr __ () ou __getattribute __ () personalizada personalizem a maneira como dir () relata seus atributos.\n",
    "\n",
    "Se o objeto não fornecer __dir __ () , a função tentará reunir informações do atributo __dict__ do objeto , se definido, e de seu objeto de tipo. A lista resultante não está necessariamente completa e pode ser imprecisa quando o objeto tiver um __getattr __ () personalizado .\n",
    "\n",
    "O mecanismo padrão dir () se comporta de maneira diferente com diferentes tipos de objetos, pois tenta produzir as informações mais relevantes, em vez de completas:\n",
    "\n",
    "Se o objeto for um objeto de módulo, a lista conterá os nomes dos atributos do módulo.\n",
    "Se o objeto é um tipo ou objeto de classe, a lista contém os nomes de seus atributos e recursivamente dos atributos de suas bases.\n",
    "Caso contrário, a lista contém os nomes dos atributos do objeto, os nomes dos atributos de sua classe e recursivamente dos atributos das classes base de sua classe."
   ]
  },
  {
   "cell_type": "code",
   "execution_count": null,
   "metadata": {},
   "outputs": [],
   "source": []
  },
  {
   "cell_type": "markdown",
   "metadata": {},
   "source": [
    "__divmod(a, b)__ - Pegue dois números (não complexos) como argumentos e retorne um par de números que consiste em seu quociente e resto ao usar divisão inteira. Com tipos de operandos mistos, aplicam-se as regras para operadores aritméticos binários. Para inteiros, o resultado é o mesmo que (a // b, a % b) . Para números de ponto flutuante, o resultado é (q, a % b) , onde q é geralmente math.floor (a / b), mas pode ser 1 a menos que isso. Em qualquer caso q * b + a % b é muito próximo de um , se uma % bé diferente de zero, tem o mesmo sinal que b e 0 <= abs (a % b) < abs (b) ."
   ]
  },
  {
   "cell_type": "code",
   "execution_count": null,
   "metadata": {},
   "outputs": [],
   "source": []
  },
  {
   "cell_type": "markdown",
   "metadata": {},
   "source": [
    "__enumerate(iterable, start=0)__ - Retornar um objeto enumerado. iterable deve ser uma sequência, um iterador ou algum outro objeto que suporte iteração. O método __next __ () do iterador retornado por enumerate () retorna uma tupla contendo uma contagem (do início, cujo padrão é 0) e os valores obtidos da iteração por iterável ."
   ]
  },
  {
   "cell_type": "code",
   "execution_count": null,
   "metadata": {},
   "outputs": [],
   "source": []
  },
  {
   "cell_type": "markdown",
   "metadata": {},
   "source": [
    "__eval(expression, globals=None, locals=None)__ - Os argumentos são uma string e globais globais e locais. Se fornecido, globals deve ser um dicionário. Se fornecido, os locais podem ser qualquer objeto de mapeamento.\n",
    "\n",
    "A expressão argumento é analisado e avaliado como uma expressão Python (tecnicamente falando, uma lista condição) usando os globals e habitantes locais dicionários como namespace global e local. Se o dicionário global estiver presente e não tiver __builtins__, os globals atuais serão copiados em globals antes que a expressão seja analisada. Isso significa que a expressão normalmente tem acesso total ao módulo padrão de builtins e que ambientes restritos são propagados. Se o dicionário local for omitido, o padrão será o global dicionário. Se ambos os dicionários forem omitidos, a expressão será executada no ambiente onde eval () é chamado. O valor de retorno é o resultado da expressão avaliada. Erros de sintaxe são relatados como exceções. Exemplo:"
   ]
  },
  {
   "cell_type": "code",
   "execution_count": 2,
   "metadata": {},
   "outputs": [
    {
     "data": {
      "text/plain": [
       "2"
      ]
     },
     "execution_count": 2,
     "metadata": {},
     "output_type": "execute_result"
    }
   ],
   "source": [
    "x  =  1 \n",
    "eval ( 'x + 1' ) \n",
    "2"
   ]
  },
  {
   "cell_type": "markdown",
   "metadata": {},
   "source": [
    "__exec(object[, globals[, locals]])__ - Esta função suporta a execução dinâmica do código Python. objeto deve ser uma string ou um objeto de código. Se for uma string, a string é analisada como um conjunto de instruções do Python que é então executado (a menos que ocorra um erro de sintaxe). [1] Se é um objeto de código, é simplesmente executado. Em todos os casos, espera-se que o código executado seja válido como entrada de arquivo (consulte a seção “Entrada de arquivo” no Manual de Referência). Esteja ciente de que as instruções return e yield não podem ser usadas fora das definições de função, mesmo dentro do contexto do código passado para a função exec () . O valor de retorno é nenhum .\n",
    "\n",
    "Em todos os casos, se as partes opcionais forem omitidas, o código será executado no escopo atual. Se apenas globais for fornecido, ele deverá ser um dicionário, que será usado para as variáveis ​​globais e locais. Se globais e locais forem fornecidos, eles serão usados ​​para as variáveis ​​globais e locais, respectivamente. Se fornecido, os locais podem ser qualquer objeto de mapeamento. Lembre-se que no nível do módulo, globais e locais são o mesmo dicionário. Se exec obtiver dois objetos separados como globals e locals , o código será executado como se fosse incorporado em uma definição de classe.\n",
    "\n",
    "Se o globais dicionário não contém um valor para a chave __builtins__ , uma referência ao dicionário dos módulos internos builtins é inserido sob essa chave. Dessa forma, você pode controlar quais builtins estão disponíveis para o código executado, inserindo seu próprio dicionário __builtins__ em globals antes de passá-lo para exec () ."
   ]
  },
  {
   "cell_type": "code",
   "execution_count": null,
   "metadata": {},
   "outputs": [],
   "source": []
  },
  {
   "cell_type": "markdown",
   "metadata": {},
   "source": [
    "__filter(function, iterable)__ - Construa um iterador a partir daqueles elementos iteráveis para os quais a função retorna true. iterável pode ser uma sequência, um contêiner que suporta iteração ou um iterador. Se function for None , a função identity é assumida, ou seja, todos os elementos iteráveis que são false são removidos.\n",
    "\n",
    "Observe que filter (função, iterável) é equivalente à expressão do gerador (item para item em iterável se função (item)) se a função não for Nenhuma e (item para item em iterável se item) se a função for Nenhuma ."
   ]
  },
  {
   "cell_type": "code",
   "execution_count": null,
   "metadata": {},
   "outputs": [],
   "source": []
  },
  {
   "cell_type": "markdown",
   "metadata": {},
   "source": [
    "__float([x])__ - Converte uma string ou um número em ponto flutuante.\n",
    "\n",
    "Se o argumento for uma sequência, ele deverá conter um número decimal, opcionalmente precedido por um sinal e, opcionalmente, incorporado no espaço em branco. O sinal opcional pode ser '+' ou '-' ; um sinal '+' não tem efeito no valor produzido. O argumento também pode ser uma string representando um NaN (não-um-número), ou um infinito positivo ou negativo. Mais precisamente, a entrada deve estar de acordo com a seguinte gramática depois que os caracteres de espaço em branco inicial e final forem removidos:"
   ]
  },
  {
   "cell_type": "code",
   "execution_count": null,
   "metadata": {},
   "outputs": [],
   "source": []
  },
  {
   "cell_type": "markdown",
   "metadata": {},
   "source": [
    "__format(value[, format_spec])__ - Converta um valor para uma representação “formatada”, conforme controlado por format_spec . A interpretação de format_spec dependerá do tipo do argumento de valor , no entanto, há uma sintaxe de formatação padrão que é usada pela maioria dos tipos internos : Format Specification Mini-Language .\n",
    "\n",
    "O format_spec padrão é uma string vazia que geralmente dá o mesmo efeito que chamar str (valor) .\n",
    "\n",
    "Uma chamada para formatar (valor, format_spec) é convertida para o tipo (valor) .__ format __ (format_spec), que ignora o dicionário da instância ao pesquisar o método __format __ () do valor . Uma exceção TypeError é levantada se o método não for encontrado ou se o format_spec ou o valor de retorno não forem strings."
   ]
  },
  {
   "cell_type": "code",
   "execution_count": null,
   "metadata": {},
   "outputs": [],
   "source": []
  },
  {
   "cell_type": "markdown",
   "metadata": {},
   "source": [
    "__frozenset([iterable])__ - Retorna um novo objeto frozenset , opcionalmente com elementos retirados de iteráveis . O frozenset é uma classe interna . Veja frozenset e Set Types - set, frozenset para documentação sobre esta classe."
   ]
  },
  {
   "cell_type": "code",
   "execution_count": null,
   "metadata": {},
   "outputs": [],
   "source": []
  },
  {
   "cell_type": "markdown",
   "metadata": {},
   "source": [
    "__getattr(object, name[, default])__ - Retorna o valor do atributo nomeado do objeto . name deve ser uma string. Se a string for o nome de um dos atributos do objeto, o resultado será o valor desse atributo. Por exemplo, getattr (x, 'foobar') é equivalente a x.foobar . Se o atributo nomeado não existir, o padrão será retornado se fornecido, caso contrário, AttributeError será gerado."
   ]
  },
  {
   "cell_type": "code",
   "execution_count": null,
   "metadata": {},
   "outputs": [],
   "source": []
  },
  {
   "cell_type": "markdown",
   "metadata": {},
   "source": [
    "__globals()__ - Retorna um dicionário que representa a tabela de símbolos global atual. Este é sempre o dicionário do módulo atual (dentro de uma função ou método, este é o módulo onde ele está definido, não o módulo do qual ele é chamado)."
   ]
  },
  {
   "cell_type": "code",
   "execution_count": null,
   "metadata": {},
   "outputs": [],
   "source": []
  },
  {
   "cell_type": "markdown",
   "metadata": {},
   "source": [
    "__hasattr(object, name)__ - Os argumentos são um objeto e uma string. O resultado é True se a string for o nome de um dos atributos do objeto, False , se não. (Isso é implementado chamando getattr (object, name) e verificando se ele gera um AttributeError ou não.)"
   ]
  },
  {
   "cell_type": "code",
   "execution_count": null,
   "metadata": {},
   "outputs": [],
   "source": []
  },
  {
   "cell_type": "markdown",
   "metadata": {},
   "source": [
    "__hash(object)__ - Retorna o valor de hash do objeto (se tiver um). Valores de hash são inteiros. Eles são usados ​​para comparar rapidamente as teclas do dicionário durante uma consulta ao dicionário. Os valores numéricos que comparam iguais têm o mesmo valor de hash (mesmo que sejam de tipos diferentes, como é o caso de 1 e 1.0)."
   ]
  },
  {
   "cell_type": "code",
   "execution_count": null,
   "metadata": {},
   "outputs": [],
   "source": []
  },
  {
   "cell_type": "markdown",
   "metadata": {},
   "source": [
    "__help([object])__ - Invoque o sistema de ajuda integrado. (Esta função destina-se ao uso interativo.) Se nenhum argumento for fornecido, o sistema de ajuda interativo será iniciado no console do interpretador. Se o argumento for uma cadeia de caracteres, a cadeia será consultada como o nome de um módulo, função, classe, método, palavra-chave ou tópico de documentação, e uma página de ajuda será impressa no console. Se o argumento for qualquer outro tipo de objeto, uma página de ajuda no objeto será gerada."
   ]
  },
  {
   "cell_type": "code",
   "execution_count": null,
   "metadata": {},
   "outputs": [],
   "source": []
  },
  {
   "cell_type": "markdown",
   "metadata": {},
   "source": [
    "__hex(x)__ - Converta um número inteiro em uma cadeia hexadecimal minúscula prefixada com “0x”, por exemplo:"
   ]
  },
  {
   "cell_type": "code",
   "execution_count": null,
   "metadata": {},
   "outputs": [],
   "source": []
  },
  {
   "cell_type": "markdown",
   "metadata": {},
   "source": [
    "__id(object)__ - Retorna a \"identidade\" de um objeto. Este é um inteiro que é garantido como único e constante para este objeto durante sua vida útil. Dois objetos com tempos de vida não sobrepostos podem ter o mesmo valor id () ."
   ]
  },
  {
   "cell_type": "code",
   "execution_count": null,
   "metadata": {},
   "outputs": [],
   "source": []
  },
  {
   "cell_type": "markdown",
   "metadata": {},
   "source": [
    "__input([prompt])__ - Se o argumento do prompt estiver presente, ele será gravado na saída padrão sem uma nova linha à direita. A função então lê uma linha da entrada, converte-a em uma string (removendo uma nova linha) e retorna isso. Quando EOF é lido, o EOFError é gerado. "
   ]
  },
  {
   "cell_type": "code",
   "execution_count": null,
   "metadata": {},
   "outputs": [],
   "source": []
  },
  {
   "cell_type": "markdown",
   "metadata": {},
   "source": [
    "__int(x=0)__<br>\n",
    "__int(x, base=10)__ - Converte um número ou string x em um inteiro, ou retorna 0 se nenhum argumento for dado. Se x é um número, retorne x .__ int __ () . Para números de ponto flutuante, isso trunca para zero.\n",
    "\n",
    "Se x não for um número ou se base for dado, então x deverá ser uma string, bytes ou bytearray instance representando um literal inteiro na base base . Opcionalmente, o literal pode ser precedido por + ou - (sem espaço entre eles) e cercado por espaço em branco. Uma base n-literal consiste nos dígitos 0 a n-1, com um a z (ou um de Z ) tendo valores de 10 a 35. O padrão de base é 10. Os valores permitidos são 0 e 2-36. Os literais de base 2, 8 e 16 podem ser prefixados com0b / 0B , 0o / 0O ou 0x / 0X , como nos literais de inteiros no código. Base 0 significa interpretar exatamente como um literal de código, de forma que a base real seja 2, 8, 10 ou 16, e assim int ('010', 0) não é legal, enquanto int ('010') é, bem como int ('010', 8) ."
   ]
  },
  {
   "cell_type": "code",
   "execution_count": null,
   "metadata": {},
   "outputs": [],
   "source": []
  },
  {
   "cell_type": "markdown",
   "metadata": {},
   "source": [
    "__isinstance(object, classinfo)__ - Retorna true se o argumento do objeto for uma instância do argumento classinfo ou de uma subclasse (direta, indireta ou virtual ) do mesmo. Se o objeto não é um objeto do tipo dado, a função sempre retorna falso. Se classinfo não for uma classe (objeto de tipo), pode ser uma tupla de objetos de tipo ou pode conter recursivamente outras tuplas (outros tipos de sequência não são aceitos). Se classinfo não é um tipo ou tupla de tipos e tais tuplas, uma exceção TypeError é levantada."
   ]
  },
  {
   "cell_type": "code",
   "execution_count": null,
   "metadata": {},
   "outputs": [],
   "source": []
  },
  {
   "cell_type": "markdown",
   "metadata": {},
   "source": [
    "__issubclass(class, classinfo)__ - Retorna true se a classe for uma subclasse (direta, indireta ou virtual ) de classinfo . Uma classe é considerada uma subclasse de si mesma. classinfo pode ser uma tupla de objetos de classe, caso em que toda entrada em classinfo será verificada. Em qualquer outro caso, uma exceção TypeError é levantada."
   ]
  },
  {
   "cell_type": "code",
   "execution_count": null,
   "metadata": {},
   "outputs": [],
   "source": []
  },
  {
   "cell_type": "markdown",
   "metadata": {},
   "source": [
    "__iter(object[, sentinel])__ - Retornar um objeto iterador . O primeiro argumento é interpretado de maneira muito diferente dependendo da presença do segundo argumento. Sem um segundo argumento, o objeto deve ser um objeto de coleção que suporte o protocolo de iteração (o método __iter __ () ) ou deve suportar o protocolo de seqüência (o método __getitem __ () com argumentos inteiros começando em 0 ). Se não suportar nenhum desses protocolos, o TypeError é gerado. Se o segundo argumento, sentinel , for fornecido, o objeto deverá ser um objeto que pode ser chamado. O iterador criado neste caso irá chamar o objeto sem argumentos para cada chamada ao seu __next __ () método; se o valor retornado for igual a sentinela, StopIteration será aumentado, caso contrário, o valor será retornado."
   ]
  },
  {
   "cell_type": "code",
   "execution_count": null,
   "metadata": {},
   "outputs": [],
   "source": []
  },
  {
   "cell_type": "markdown",
   "metadata": {},
   "source": [
    "__len(s)__ - Retorna o comprimento (o número de itens) de um objeto. O argumento pode ser uma sequência (string, tupla ou lista) ou um mapeamento (dicionário)."
   ]
  },
  {
   "cell_type": "code",
   "execution_count": null,
   "metadata": {},
   "outputs": [],
   "source": []
  },
  {
   "cell_type": "markdown",
   "metadata": {},
   "source": [
    "__list([iterable])__ - Em vez de ser uma função, list é na verdade um tipo de sequência mutável"
   ]
  },
  {
   "cell_type": "code",
   "execution_count": null,
   "metadata": {},
   "outputs": [],
   "source": []
  },
  {
   "cell_type": "markdown",
   "metadata": {},
   "source": [
    "__locals()__ - Atualize e retorne um dicionário que representa a tabela de símbolos local atual. Variáveis ​​livres são retornadas por locals () quando são chamadas em blocos de funções, mas não em blocos de classes."
   ]
  },
  {
   "cell_type": "code",
   "execution_count": null,
   "metadata": {},
   "outputs": [],
   "source": []
  },
  {
   "cell_type": "markdown",
   "metadata": {},
   "source": [
    "__map(function, iterable, ...)__ - Retorna um iterador que aplica a função a cada item de iterável , produzindo os resultados. Se argumentos iteráveis adicionais forem passados, a função deve levar muitos argumentos e será aplicada aos itens de todos os iteráveis ​​em paralelo. Com vários iteráveis, o iterador é interrompido quando o menor iterável é esgotado. Para casos em que as entradas da função já estão organizadas em tuplas de argumento, consulte itertools.starmap () ."
   ]
  },
  {
   "cell_type": "code",
   "execution_count": null,
   "metadata": {},
   "outputs": [],
   "source": []
  },
  {
   "cell_type": "markdown",
   "metadata": {},
   "source": [
    "__max(iterable, *[, key])__<br>\n",
    "__max(arg1, arg2, *args[, key])__ - Retorna o maior item em um iterável ou o maior de dois ou mais argumentos.\n",
    "\n",
    "Se um argumento posicional for fornecido, iterável deve ser um iterável não vazio (como uma sequência, tupla ou lista não vazia). O maior item no iterável é retornado. Se dois ou mais argumentos posicionais forem fornecidos, o maior dos argumentos posicionais será retornado.\n",
    "\n",
    "O argumento de chave somente palavra-chave opcional especifica uma função de ordenação de um argumento como a usada para list.sort () .\n",
    "\n",
    "Se vários itens forem máximos, a função retornará o primeiro encontrado. Isso é consistente com outras ferramentas de preservação de estabilidade de classificação , como classificado (iterável, chave = keyfunc, inversa = True) [0] e heapq.nlargest (1, iterável, chave = keyfunc) ."
   ]
  },
  {
   "cell_type": "code",
   "execution_count": null,
   "metadata": {},
   "outputs": [],
   "source": []
  },
  {
   "cell_type": "markdown",
   "metadata": {},
   "source": [
    "__memoryview(obj)__ - Retorna um objeto “view de memória” criado a partir do argumento dado. Veja Memory Views para mais informações."
   ]
  },
  {
   "cell_type": "code",
   "execution_count": null,
   "metadata": {},
   "outputs": [],
   "source": []
  },
  {
   "cell_type": "markdown",
   "metadata": {},
   "source": [
    "__min(iterable, *[, key])__<br>\n",
    "__min(arg1, arg2, *args[, key])__ - Retorna o menor item de um iterável ou o menor de dois ou mais argumentos.\n",
    "\n",
    "Se um argumento posicional for fornecido, iterável deve ser um iterável não vazio (como uma sequência, tupla ou lista não vazia). O menor item no iterável é retornado. Se dois ou mais argumentos posicionais forem fornecidos, o menor dos argumentos posicionais será retornado.\n",
    "\n",
    "O argumento de chave somente palavra-chave opcional especifica uma função de ordenação de um argumento como a usada para list.sort () .\n",
    "\n",
    "Se vários itens forem mínimos, a função retornará o primeiro encontrado. Isso é consistente com outras ferramentas de preservação de estabilidade de classificação , como classificado (iterável, chave = keyfunc) [0] e heapq.nsmallest (1, iterável, chave = keyfunc) ."
   ]
  },
  {
   "cell_type": "code",
   "execution_count": null,
   "metadata": {},
   "outputs": [],
   "source": []
  },
  {
   "cell_type": "markdown",
   "metadata": {},
   "source": [
    "__next(iterator[, default])__ - Recupere o próximo item do iterador chamando seu método __next __ () . Se o padrão for dado, ele será retornado se o iterador estiver esgotado, caso contrário, StopIteration será gerado."
   ]
  },
  {
   "cell_type": "code",
   "execution_count": null,
   "metadata": {},
   "outputs": [],
   "source": []
  },
  {
   "cell_type": "markdown",
   "metadata": {},
   "source": [
    "__object()__ - Retornar um novo objeto sem recursos. objeto é uma base para todas as classes. Tem os métodos que são comuns a todas as instâncias de classes Python. Esta função não aceita argumentos."
   ]
  },
  {
   "cell_type": "code",
   "execution_count": null,
   "metadata": {},
   "outputs": [],
   "source": []
  },
  {
   "cell_type": "markdown",
   "metadata": {},
   "source": [
    "__oct(x)__ - Converte um número inteiro em uma string octal. O resultado é uma expressão válida do Python. Se x não é um objeto int de Python , ele deve definir um método __index __ () que retorna um inteiro."
   ]
  },
  {
   "cell_type": "code",
   "execution_count": null,
   "metadata": {},
   "outputs": [],
   "source": []
  },
  {
   "cell_type": "code",
   "execution_count": null,
   "metadata": {},
   "outputs": [],
   "source": []
  },
  {
   "cell_type": "markdown",
   "metadata": {},
   "source": [
    "__ord(c)__ - Dada uma string representando um caractere Unicode, retorna um inteiro representando o ponto de código Unicode desse caractere. Por exemplo, ord ('a') retorna o inteiro 97 e ord ('\\ u2020') retorna 8224 . Esse é o inverso de chr () ."
   ]
  },
  {
   "cell_type": "code",
   "execution_count": null,
   "metadata": {},
   "outputs": [],
   "source": []
  },
  {
   "cell_type": "markdown",
   "metadata": {},
   "source": [
    "__pow(x, y[, z])__ - Retorna x para o poder y ; se z estiver presente, retorne x para o poder y , módulo z (calculado mais eficientemente que pow (x, y) % z ). A forma de dois argumentos pow (x, y) é equivalente a usar o operador de energia: x ** y .\n",
    "\n",
    "Os argumentos devem ter tipos numéricos. Com tipos de operandos mistos, aplicam-se as regras de coerção para operadores aritméticos binários. Para operandos int , o resultado tem o mesmo tipo dos operandos (após a coerção), a menos que o segundo argumento seja negativo; Nesse caso, todos os argumentos são convertidos em float e um resultado float é entregue. Por exemplo, 10 ** 2 retorna 100 , mas 10 ** - 2 retorna 0,01 . Se o segundo argumento for negativo, o terceiro argumento deve ser omitido. Se z estiver presente, x e y devem ser de tipos inteiros e y deve ser não negativo."
   ]
  },
  {
   "cell_type": "code",
   "execution_count": null,
   "metadata": {},
   "outputs": [],
   "source": []
  },
  {
   "cell_type": "markdown",
   "metadata": {},
   "source": [
    "__print(*objects, sep=' ', end='\\n', file=sys.stdout, flush=False)__ - Imprimir objetos no arquivo de fluxo , separados por sep e seguidos por final . sep , end e file , se presentes, devem ser dados como argumentos de palavra-chave.\n",
    "\n",
    "Todos os argumentos não-chave são convertidos em strings como str () e gravados no fluxo, separados por sep e seguidos por final . Tanto sep e end devem ser strings; eles também podem ser Nenhum , o que significa usar os valores padrão. Se nenhum objeto for dado, print () irá apenas escrever final .\n",
    "\n",
    "O argumento do arquivo deve ser um objeto com um método write (string) ; se não estiver presente ou Nenhum , sys.stdout será usado. Se a saída é armazenada em buffer é geralmente determinada pelo arquivo , mas se o argumento da palavra-chave flush for verdadeiro, o fluxo será liberado à força."
   ]
  },
  {
   "cell_type": "code",
   "execution_count": null,
   "metadata": {},
   "outputs": [],
   "source": []
  },
  {
   "cell_type": "markdown",
   "metadata": {},
   "source": [
    "__property(fget=None, fset=None, fdel=None, doc=None)__ - Retornar um atributo de propriedade.\n",
    "\n",
    "fget é uma função para obter um valor de atributo, da mesma forma, fset é uma função para configuração e fdel para uma função para del'ing, um atributo. O uso típico é definir um atributo gerenciado x :"
   ]
  },
  {
   "cell_type": "code",
   "execution_count": 6,
   "metadata": {},
   "outputs": [],
   "source": [
    "class C:\n",
    "    def __init__(self):\n",
    "        self._x = None\n",
    "\n",
    "    def getx(self):\n",
    "        return self._x\n",
    "    def setx(self, value):\n",
    "        self._x = value\n",
    "    def delx(self):\n",
    "        del self._x\n",
    "        \n",
    "    x = property(getx, setx, delx, \"I'm the 'x' property.\")"
   ]
  },
  {
   "cell_type": "code",
   "execution_count": 4,
   "metadata": {},
   "outputs": [],
   "source": [
    "class Parrot:\n",
    "    def __init__(self):\n",
    "        self._voltage = 100000\n",
    "\n",
    "    @property\n",
    "    def voltage(self):\n",
    "        \"\"\"Get the current voltage.\"\"\"\n",
    "        return self._voltage"
   ]
  },
  {
   "cell_type": "code",
   "execution_count": 3,
   "metadata": {},
   "outputs": [],
   "source": [
    "class C:\n",
    "    def __init__(self):\n",
    "        self._x = None\n",
    "\n",
    "    @property\n",
    "    def x(self):\n",
    "        \"\"\"I'm the 'x' property.\"\"\"\n",
    "        return self._x\n",
    "\n",
    "    @x.setter\n",
    "    def x(self, value):\n",
    "        self._x = value\n",
    "\n",
    "    @x.deleter\n",
    "    def x(self):\n",
    "        del self._x"
   ]
  },
  {
   "cell_type": "markdown",
   "metadata": {},
   "source": [
    "__range(stop)__<br>\n",
    "__range(start, stop[, step])__ - Em vez de ser uma função, o intervalo é, na verdade, um tipo de sequência imutável."
   ]
  },
  {
   "cell_type": "code",
   "execution_count": null,
   "metadata": {},
   "outputs": [],
   "source": []
  },
  {
   "cell_type": "markdown",
   "metadata": {},
   "source": [
    "__repr(object)__ - Retorna uma string contendo uma representação imprimível de um objeto. Para muitos tipos, essa função faz uma tentativa de retornar uma cadeia que produziria um objeto com o mesmo valor quando passada para eval () , caso contrário, a representação é uma cadeia entre colchetes que contém o nome do tipo do objeto juntos com informações adicionais, muitas vezes incluindo o nome e endereço do objeto. Uma classe pode controlar o que esta função retorna para suas instâncias definindo um método __repr __ ()."
   ]
  },
  {
   "cell_type": "code",
   "execution_count": null,
   "metadata": {},
   "outputs": [],
   "source": []
  },
  {
   "cell_type": "markdown",
   "metadata": {},
   "source": [
    "__reversed(seq)__ - Retornar um iterador reverso . seq deve ser um objeto que tenha um método __reversed __ () ou suporte ao protocolo de seqüência (o método __len __ () e o método __getitem __ () com argumentos inteiros começando em 0 )."
   ]
  },
  {
   "cell_type": "code",
   "execution_count": null,
   "metadata": {},
   "outputs": [],
   "source": []
  },
  {
   "cell_type": "markdown",
   "metadata": {},
   "source": [
    "__round(number[, ndigits])__ - Retorna o número do valor do ponto flutuante arredondado para digitar os dígitos após o ponto decimal. Se ndigits for omitido, o valor padrão será zero. Delegados para numerar .__ round __ (ndigits) .\n",
    "\n",
    "Para os tipos internos que suportam round () , os valores são arredondados para o múltiplo de 10 mais próximo da potência menos ndigits ; se dois múltiplos são igualmente próximos, o arredondamento é feito na direção da escolha par (por exemplo, tanto o redondo (0.5) quanto o redondo (-0.5) são 0 , e o arredondado (1.5) é 2 ). O valor de retorno é um inteiro se chamado com um argumento, caso contrário, do mesmo tipo que number ."
   ]
  },
  {
   "cell_type": "code",
   "execution_count": null,
   "metadata": {},
   "outputs": [],
   "source": []
  },
  {
   "cell_type": "markdown",
   "metadata": {},
   "source": [
    "__set([iterable])__ - Retorna um novo objeto de conjunto , opcionalmente com elementos retirados de iteráveis . conjunto é uma classe interna. Veja set e Set Types - set, frozenset para documentação sobre esta classe."
   ]
  },
  {
   "cell_type": "code",
   "execution_count": null,
   "metadata": {},
   "outputs": [],
   "source": []
  },
  {
   "cell_type": "markdown",
   "metadata": {},
   "source": [
    "__setattr(object, name, value)__ - Esta é a contrapartida de getattr () . Os argumentos são um objeto, uma string e um valor arbitrário. A string pode nomear um atributo existente ou um novo atributo. A função atribui o valor ao atributo, desde que o objeto o permita. Por exemplo, setattr (x, 'foobar', 123) é equivalente a x.foobar = 123 ."
   ]
  },
  {
   "cell_type": "code",
   "execution_count": null,
   "metadata": {},
   "outputs": [],
   "source": []
  },
  {
   "cell_type": "markdown",
   "metadata": {},
   "source": [
    "__slice(stop)__<br>\n",
    "__slice(start, stop[, step])__ - Retorna um objeto de fatia representando o conjunto de índices especificado por intervalo (iniciar, parar, passo) . Os argumentos de início e etapa são padronizados como Nenhum . Os objetos Slice possuem atributos de dados somente leitura , start , stop e step, que meramente retornam os valores dos argumentos (ou seus padrões). Eles não têm outra funcionalidade explícita; no entanto, eles são usados ​​pelo Numerical Python e outras extensões de terceiros. Objetos de fatia também são gerados quando a sintaxe de indexação estendida é usada. Por exemplo: a [start: stop: step] ou [start: stop, i] . Veja itertools.islice () para uma versão alternativa que retorna um iterador."
   ]
  },
  {
   "cell_type": "code",
   "execution_count": null,
   "metadata": {},
   "outputs": [],
   "source": []
  },
  {
   "cell_type": "markdown",
   "metadata": {},
   "source": [
    "__sorted(iterable[, key][, reverse])__ - "
   ]
  },
  {
   "cell_type": "code",
   "execution_count": null,
   "metadata": {},
   "outputs": [],
   "source": []
  },
  {
   "cell_type": "markdown",
   "metadata": {},
   "source": [
    "__staticmethod(function)__ - Retornar uma nova lista classificada dos itens em iterável .\n",
    "\n",
    "Tem dois argumentos opcionais que devem ser especificados como argumentos de palavra-chave.\n",
    "\n",
    "key especifica uma função de um argumento que é usado para extrair uma chave de comparação de cada elemento da lista: key = str.lower . O valor padrão é Nenhum (compare os elementos diretamente).\n",
    "\n",
    "reverse é um valor booleano. Se definido como True , os elementos da lista serão classificados como se cada comparação fosse invertida.\n",
    "\n",
    "Use functools.cmp_to_key () para converter uma função cmp de estilo antigo em uma função- chave ."
   ]
  },
  {
   "cell_type": "code",
   "execution_count": null,
   "metadata": {},
   "outputs": [],
   "source": []
  },
  {
   "cell_type": "markdown",
   "metadata": {},
   "source": [
    "__str(object='')__<br>\n",
    "__str(object=b'', encoding='utf-8', errors='strict')__ - Retornar um str versão do objeto. str é a classe de string interna .  "
   ]
  },
  {
   "cell_type": "code",
   "execution_count": null,
   "metadata": {},
   "outputs": [],
   "source": []
  },
  {
   "cell_type": "markdown",
   "metadata": {},
   "source": [
    "__sum(iterable[, start])__ - Soma começa e os itens de um iterável da esquerda para a direita e retorna o total. o padrão de início é 0 . Os itens do iterable são normalmente números, e o valor inicial não pode ser uma string.\n",
    "\n",
    "Para alguns casos de uso, existem boas alternativas para sum () . A maneira rápida e preferida de concatenar uma seqüência de strings é chamando '' .join (sequence) . Para adicionar valores de ponto flutuante com precisão estendida, consulte math.fsum () . Para concatenar uma série de iteráveis, considere o uso de itertools.chain () ."
   ]
  },
  {
   "cell_type": "code",
   "execution_count": null,
   "metadata": {},
   "outputs": [],
   "source": []
  },
  {
   "cell_type": "markdown",
   "metadata": {},
   "source": [
    "__super([type[, object-or-type]])__ - Retornar um objeto de proxy que delega chamadas de método a uma classe de tipo pai ou irmão . Isso é útil para acessar métodos herdados que foram substituídos em uma classe. A ordem de pesquisa é a mesma usada por getattr (), exceto que o próprio tipo é ignorado.\n",
    "\n",
    "O atributo __mro__ do tipo lista a ordem de pesquisa de resolução do método usada por ambos getattr () e super () . O atributo é dinâmico e pode ser alterado sempre que a hierarquia de herança é atualizada.\n",
    "\n",
    "Se o segundo argumento for omitido, o superobjeto retornado será desvinculado. Se o segundo argumento é um objeto, isinstance (obj, type) deve ser true. Se o segundo argumento for um tipo, issubclass (type2, type) deve ser true (isso é útil para classmethods).\n",
    "\n",
    "Existem dois casos de uso típicos para super . Em uma hierarquia de classes com herança única, super pode ser usado para se referir a classes pai sem nomeá-las explicitamente, tornando o código mais sustentável. Este uso é estreitamente paralelo ao uso de super em outras linguagens de programação.\n",
    "\n",
    "O segundo caso de uso é suportar herança múltipla cooperativa em um ambiente de execução dinâmica. Este caso de uso é exclusivo do Python e não é encontrado em linguagens compiladas estaticamente ou em idiomas que suportam apenas herança única. Isso possibilita a implementação de “diagramas de diamante” onde várias classes base implementam o mesmo método. Um bom design determina que esse método tenha a mesma assinatura de chamada em todos os casos (porque a ordem das chamadas é determinada no tempo de execução, porque essa ordem se adapta às mudanças na hierarquia de classes e porque essa ordem pode incluir classes irmãs desconhecidas antes do tempo de execução). )."
   ]
  },
  {
   "cell_type": "code",
   "execution_count": null,
   "metadata": {},
   "outputs": [],
   "source": []
  },
  {
   "cell_type": "markdown",
   "metadata": {},
   "source": [
    "__tuple([iterable])__ - As tuplas são seqüências imutáveis, normalmente usadas para armazenar coleções de dados heterogêneos (como as 2-tuplas produzidas pelo enumerate () embutido). As tuplas também são usadas para casos em que uma sequência imutável de dados homogêneos é necessária (como permitir armazenamento em uma instância set ou dict )."
   ]
  },
  {
   "cell_type": "code",
   "execution_count": null,
   "metadata": {},
   "outputs": [],
   "source": []
  },
  {
   "cell_type": "markdown",
   "metadata": {},
   "source": [
    "__type(object)__<br>\n",
    "__type(name, bases, dict)__ - Objetos de tipo representam os vários tipos de objeto. O tipo de um objeto é acessado pelo tipo de função interna () . Não há operações especiais em tipos. Os tipos de módulo padrão definem nomes para todos os tipos internos padrão."
   ]
  },
  {
   "cell_type": "code",
   "execution_count": null,
   "metadata": {},
   "outputs": [],
   "source": []
  },
  {
   "cell_type": "markdown",
   "metadata": {},
   "source": [
    "__vars([object])__ - Retorna o __dict__atributo para um módulo, classe, instância ou qualquer outro objeto com um __dict__atributo.\n",
    "\n",
    "Objetos como módulos e instâncias possuem um __dict__ atributo atualizável ; no entanto, outros objetos podem ter restrições de gravação em seus __dict__atributos (por exemplo, as classes usam um types.MappingProxyTypepara impedir atualizações diretas do dicionário).\n",
    "\n",
    "Sem um argumento, vars()age como locals(). Observe que o dicionário de locais é útil apenas para leituras, pois as atualizações no dicionário de locais são ignoradas."
   ]
  },
  {
   "cell_type": "code",
   "execution_count": null,
   "metadata": {},
   "outputs": [],
   "source": []
  },
  {
   "cell_type": "markdown",
   "metadata": {},
   "source": [
    "__zip(*iterables)__ - Crie um iterador que agregue elementos de cada um dos iteráveis.\n",
    "\n",
    "Retorna um iterador de tuplas, onde a i -ésima tupla contém o i -ésimo elemento de cada uma das seqüências de argumentos ou iterações. O iterador pára quando a menor entrada iterável é esgotada. Com um único argumento iterável, ele retorna um iterador de 1-tuplas. Sem argumentos, ele retorna um iterador vazio. \n",
    "\n",
    "A ordem de avaliação da esquerda para a direita dos iteráveis é garantida. Isso torna possível um idioma para agrupar uma série de dados em grupos de comprimento n usando zip(*[iter(s)]*n). Isso repete os mesmosn tempos de iterador para que cada tupla de saída tenha o resultado de nchamadas para o iterador. Isso tem o efeito de dividir a entrada em n pedaços de comprimento.\n",
    "\n",
    "zip()só deve ser usado com entradas de comprimento desiguais quando você não se importa com valores não correspondentes correspondentes dos iteráveis ​​mais longos. Se esses valores forem importantes, use em seu itertools.zip_longest()lugar.\n",
    "Equivalente a:"
   ]
  },
  {
   "cell_type": "code",
   "execution_count": null,
   "metadata": {},
   "outputs": [],
   "source": [
    "def zip(*iterables):\n",
    "    # zip('ABCD', 'xy') --> Ax By\n",
    "    sentinel = object()\n",
    "    iterators = [iter(it) for it in iterables]\n",
    "    while iterators:\n",
    "        result = []\n",
    "        for it in iterators:\n",
    "            elem = next(it, sentinel)\n",
    "            if elem is sentinel:\n",
    "                return\n",
    "            result.append(elem)\n",
    "        yield tuple(result)"
   ]
  },
  {
   "cell_type": "markdown",
   "metadata": {},
   "source": [
    "__import__(name, globals=None, locals=None, fromlist=(), level=0) - Essa função é invocada pela importinstrução. Ele pode ser substituído (por importar o builtinsmódulo e atribuindo a builtins.__import__) a fim de mudar a semântica da importdeclaração, mas isso é fortemente desencorajado, pois ele é geralmente mais simples de usar ganchos de importação (verPEP 302 ) para atingir os mesmos objetivos e não causa problemas com o código que assume que a implementação de importação padrão está em uso. O uso direto de__import__()também é desencorajado em favor deimportlib.import_module().\n",
    "\n",
    "A função importa o nome do módulo , potencialmente usando os globais e locais fornecidos para determinar como interpretar o nome em um contexto de pacote. A lista from fornece os nomes dos objetos ou submódulos que devem ser importados do módulo dado pelo nome . A implementação padrão não usa seu argumento locals e usa seus globals apenas para determinar o contexto do pacote da importinstrução.\n",
    "\n",
    "level especifica se deve usar importações absolutas ou relativas. 0(o padrão) significa executar somente importações absolutas. Valores positivos para o nível indicam o número de diretórios-pais a serem pesquisados ​​em relação ao diretório da chamada do módulo __import__()(consultePEP 328 para os detalhes).\n",
    "\n",
    "Quando a variável de nome é do formulário package.module, normalmente, o pacote de nível superior (o nome até o primeiro ponto) é retornado, não o módulo nomeado pelo nome . No entanto, quando um argumento fromlist não vazio é fornecido, o módulo denominado por nome é retornado.\n",
    "\n",
    "Por exemplo, a instrução resulta em bytecode semelhante ao seguinte código:import spam"
   ]
  },
  {
   "cell_type": "code",
   "execution_count": null,
   "metadata": {},
   "outputs": [],
   "source": []
  }
 ],
 "metadata": {
  "kernelspec": {
   "display_name": "Python 3",
   "language": "python",
   "name": "python3"
  },
  "language_info": {
   "codemirror_mode": {
    "name": "ipython",
    "version": 3
   },
   "file_extension": ".py",
   "mimetype": "text/x-python",
   "name": "python",
   "nbconvert_exporter": "python",
   "pygments_lexer": "ipython3",
   "version": "3.7.3"
  }
 },
 "nbformat": 4,
 "nbformat_minor": 2
}
