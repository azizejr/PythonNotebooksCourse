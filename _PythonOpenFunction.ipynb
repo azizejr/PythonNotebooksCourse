{
 "cells": [
  {
   "cell_type": "markdown",
   "metadata": {},
   "source": [
    "# Built in Functions - Open()\n",
    "\n",
    "O interpretador Python possui várias funções e tipos integrados que estão sempre disponíveis."
   ]
  },
  {
   "cell_type": "markdown",
   "metadata": {},
   "source": [
    "__open(file, mode='r', buffering=-1, encoding=None, errors=None, newline=None, closefd=True, opener=None)__ - Abre o arquivo e retorna um objeto de arquivo correspondente. Se o arquivo não puder ser aberto, um erro ```OSError``` será levantado.\n",
    "\n",
    "```file``` é um objeto string ou bytes no formato de caminho de diretórios (absoluto ou relativo ao diretório de trabalho atual) contendo o arquivo a ser aberto ou um __descritor de arquivo__ do tipo inteiro (indicador abstrato para acessar um arquivo usado em sistemas __POSIX__) do arquivo a ser \"envelopado\". (Se um descritor de arquivo for fornecido, ele será fechado quando o objeto de E/S retornado for fechado, a menos que o```closefd``` esteja definido como ```False```.)\n",
    "\n",
    "```mode``` é uma string opcional que especifica o modo no qual o arquivo é aberto. No modo de texto, se a codificação não for especificada, a codificação usada depende da plataforma: ```locale.getpreferredencoding``` (```False```) é chamado para obter a codificação de localidade atual. Para leitura e escrita ```raw bytes``` usa modo binário e deixa a codificação não especificada. \n",
    "\n",
    "Os modos disponíveis são:\n",
    "\n",
    "|<center>Atributo |<center>Significado|\n",
    "|:---------------:|:-------------------------------------------------------------------------:|\n",
    "|<center>```'r'```|<center>aberto para leitura (padrão)                                       |\n",
    "|<center>```'w'```|<center>aberto para gravação, truncando o arquivo primeiro                 |\n",
    "|<center>```'x'```|<center>aberto para criação exclusiva, falhando se o arquivo já existir    |    \n",
    "|<center>```'a'```|<center>aberto para escrita, anexando ao final do arquivo, se existir      |\n",
    "|<center>```'b'```|<center>modo binário                                                       |      \n",
    "|<center>```'t'```|<center>modo de texto (padrão)                                             |    \n",
    "|<center>```'+'```|<center>abrir um arquivo de disco para atualização (leitura e escrita)     |    \n",
    "|<center>```'U'```|<center>modo universal newlines (para compatibilidade com versões anteriores; não deve ser usado em código novo)|    \n",
    "\n",
    "```buffering``` é um inteiro opcional usado para definir a política de buffering. Passa-se 0 para desativar o buffer (permitido apenas no modo binário), 1 para selecionar o buffer de linha (somente utilizável no modo de texto) e um inteiro > 1 para indicar o tamanho em bytes de um buffer de fragmento de tamanho fixo. Quando nenhum argumento de buffer é fornecido, a política de buffer padrão funciona da seguinte maneira:\n",
    "\n",
    "- Arquivos binários são armazenados em buffer com pedaços de tamanho fixo; o tamanho do buffer é escolhido usando uma heurística tentando determinar o “tamanho do bloco” do dispositivo subjacente e retornando ao io.DEFAULT_BUFFER_SIZE. Em muitos sistemas, o buffer normalmente terá 4096 ou 8192 bytes de tamanho.\n",
    "\n",
    "- Arquivos de texto “interativos” usam o buffer de linha. Outros arquivos de texto usam a política descrita acima para arquivos binários.\n",
    "\n",
    "```encoding``` é o nome da codificação usada para decodificar ou codificar o arquivo. Isso só deve ser usado no modo de texto. A codificação padrão é dependente da plataforma (qualquer que seja o retorno de ```locale.getpreferredencoding ()```), mas qualquer codificação suportada pelo Python pode ser usada. Veja o módulo de __codecs__ para a lista de codificações suportadas.\n",
    "\n",
    "```errors``` é uma string opcional que especifica como os erros de codificação e decodificação devem ser manipulados - não pode ser usado no modo binário. Uma variedade de manipuladores de erro padrão está disponível, embora qualquer nome de tratamento de erro que tenha sido registrado com ```codecs.register_error ()``` também seja válido. \n",
    "\n",
    "Os nomes padrão são:\n",
    "\n",
    "- ```'strict'``` para gerar uma exceção ```ValueError``` se houver um erro de codificação. O valor padrão de ```None``` tem o mesmo efeito.\n",
    "- ```'ignore'``` ignora erros. Observe que ignorar erros de codificação pode levar à perda de dados.\n",
    "- ```'replace'``` faz com que um marcador de substituição (como '?' ) seja inserido onde houver dados malformados.\n",
    "- ```'surrogateescape'``` representará quaisquer bytes incorretos como pontos de código na Área de Uso Privado do Unicode, variando de U + DC80 a U + DCFF. Esses pontos de código privados serão então convertidos nos mesmos bytes quando  o manipulador de erros ```surrogateescape``` for usado ao gravar dados. Isso é útil para processar arquivos em uma codificação desconhecida.\n",
    "- ```'xmlcharrefreplace'``` só é suportado ao __gravar__ em um arquivo. Os caracteres não suportados pela codificação são substituídos pela referência de caracteres XML apropriada ```& # nnn;```.\n",
    "- ```'backslashreplace'``` (também suportado apenas ao gravar) substitui caracteres não suportados pelas seqüências de escape da barra invertida do Python.\n",
    "\n",
    "```newline``` controla como funciona o modo de novas linhas universal (aplica-se apenas ao modo de texto). Pode ser ```None ```, ```''``` , ```'\\ n'``` , ```'\\ r'``` e ```'\\ r \\ n'``` . Funciona da seguinte maneira:\n",
    "\n",
    "- Ao ler a entrada do fluxo, se a nova linha for ```None ```, o modo de novas linhas universais é ativado. As linhas na entrada podem terminar em ```'\\ n'``` , ```'\\ r'``` ou ```'\\ r \\ n'``` , e elas são traduzidas em ```'\\ n'``` antes de serem retornadas a quem as chamou. Se for ```''``` , o modo de nova linha universal é ativado, mas os finais de linha são retornados ao responsável pela chamada não traduzido. Se tiver qualquer um dos outros valores legais, as linhas de entrada serão terminadas apenas pela string fornecida e a terminação da linha será retornada ao responsável pela chamada não traduzida.\n",
    "\n",
    "- Ao gravar a saída no fluxo, se newline for ```None``` , qualquer caractere ```'\\ n'``` gravado será convertido para o separador de linha padrão do sistema, ```os.linesep```. Se newline for ```''``` ou ```'\\ n'```, não haverá tradução. Se newline for algum dos outros valores legais, qualquer caractere ```'\\ n'``` escrito é traduzido para a string fornecida.\n",
    "\n",
    "Se ```closefd``` for ```False``` e um __descritor de arquivo__ em vez de um nome de arquivo for fornecido, o __descritor de arquivo__ subjacente será mantido aberto quando o arquivo for fechado. Se um nome de arquivo for dado, ```closefd``` não terá efeito e deverá ser ```True``` (o padrão).\n",
    "\n",
    "Um ```opener``` personalizado pode ser usado passando um callable como ```opener```. O descritor de arquivo subjacente para o objeto de arquivo é então obtido chamando ```opener``` com ( file , flags ). ```opener``` deve retornar um __descritor de arquivo__ aberto (passando ```os.open``` como ```opener``` resulta em uma funcionalidade similar ao passar ```None```).  "
   ]
  },
  {
   "cell_type": "code",
   "execution_count": null,
   "metadata": {},
   "outputs": [],
   "source": []
  }
 ],
 "metadata": {
  "kernelspec": {
   "display_name": "Python 3",
   "language": "python",
   "name": "python3"
  },
  "language_info": {
   "codemirror_mode": {
    "name": "ipython",
    "version": 3
   },
   "file_extension": ".py",
   "mimetype": "text/x-python",
   "name": "python",
   "nbconvert_exporter": "python",
   "pygments_lexer": "ipython3",
   "version": "3.7.3"
  }
 },
 "nbformat": 4,
 "nbformat_minor": 2
}
