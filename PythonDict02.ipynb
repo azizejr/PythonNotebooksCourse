{
 "cells": [
  {
   "cell_type": "markdown",
   "metadata": {},
   "source": [
    "# Dicionários em Python\n",
    "\n",
    "### implementações, métodos e utilizações práticas"
   ]
  },
  {
   "cell_type": "code",
   "execution_count": 1,
   "metadata": {},
   "outputs": [],
   "source": [
    "#Cria o dicionario \"Employee\" com id como chave, nome e sobrenome como valores\n",
    "employee = {'111-111-111':['Anna','Katerina'],'222-222-222':['yu','tsun'],'333-333-333':['Hans', 'Solo']}"
   ]
  },
  {
   "cell_type": "code",
   "execution_count": 2,
   "metadata": {},
   "outputs": [
    {
     "data": {
      "text/plain": [
       "dict"
      ]
     },
     "execution_count": 2,
     "metadata": {},
     "output_type": "execute_result"
    }
   ],
   "source": [
    "#verificação do tipo da chave 'employee'\n",
    "type(employee)"
   ]
  },
  {
   "cell_type": "code",
   "execution_count": 3,
   "metadata": {},
   "outputs": [
    {
     "name": "stdout",
     "output_type": "stream",
     "text": [
      "['Anna', 'Katerina']\n",
      "['yu', 'tsun']\n",
      "['Hans', 'Solo']\n"
     ]
    }
   ],
   "source": [
    "#Exibição dos nomes e sobrenomes dos empregados através da chave\n",
    "print employee['111-111-111']\n",
    "print employee['222-222-222']\n",
    "print employee['333-333-333']"
   ]
  },
  {
   "cell_type": "code",
   "execution_count": 4,
   "metadata": {},
   "outputs": [],
   "source": [
    "# Cria o dicionario keys com os dias da semana e a chave como abreviação\n",
    "days = {'Su':'Sunday','Mo':'Monday','Tu':'Tuesday','We':'Wednesday','Th':'Thursday','Fr':'Friday','Sa':'Saturday'}"
   ]
  },
  {
   "cell_type": "code",
   "execution_count": 5,
   "metadata": {},
   "outputs": [
    {
     "data": {
      "text/plain": [
       "'Sunday'"
      ]
     },
     "execution_count": 5,
     "metadata": {},
     "output_type": "execute_result"
    }
   ],
   "source": [
    "#acessando o valor da chave 'su'\n",
    "days['Su']"
   ]
  },
  {
   "cell_type": "code",
   "execution_count": 6,
   "metadata": {},
   "outputs": [],
   "source": [
    "#redefinindo o valor da chave 'su'\n",
    "days['Su'] = 'Domingo'"
   ]
  },
  {
   "cell_type": "code",
   "execution_count": 7,
   "metadata": {},
   "outputs": [
    {
     "data": {
      "text/plain": [
       "7"
      ]
     },
     "execution_count": 7,
     "metadata": {},
     "output_type": "execute_result"
    }
   ],
   "source": [
    "#tamanho do dicionario\n",
    "len(days)"
   ]
  },
  {
   "cell_type": "code",
   "execution_count": 8,
   "metadata": {},
   "outputs": [
    {
     "data": {
      "text/plain": [
       "True"
      ]
     },
     "execution_count": 8,
     "metadata": {},
     "output_type": "execute_result"
    }
   ],
   "source": [
    "#verificando a existencia de uma chave no dicionário\n",
    "'Fr' in days"
   ]
  },
  {
   "cell_type": "code",
   "execution_count": 9,
   "metadata": {},
   "outputs": [
    {
     "data": {
      "text/plain": [
       "False"
      ]
     },
     "execution_count": 9,
     "metadata": {},
     "output_type": "execute_result"
    }
   ],
   "source": [
    "#verificando a existencia de um valor no dicionário (A condição de existencia só existe para chaves)\n",
    "'Friday' in days"
   ]
  },
  {
   "cell_type": "code",
   "execution_count": 10,
   "metadata": {},
   "outputs": [
    {
     "data": {
      "text/plain": [
       "'Tuesday'"
      ]
     },
     "execution_count": 10,
     "metadata": {},
     "output_type": "execute_result"
    }
   ],
   "source": [
    "#método pop para extrair uma chave e valor de um dicionario\n",
    "days.pop('Tu')"
   ]
  },
  {
   "cell_type": "code",
   "execution_count": 11,
   "metadata": {},
   "outputs": [
    {
     "data": {
      "text/plain": [
       "{'Fr': 'Friday',\n",
       " 'Mo': 'Monday',\n",
       " 'Sa': 'Saturday',\n",
       " 'Su': 'Domingo',\n",
       " 'Th': 'Thursday',\n",
       " 'We': 'Wednesday'}"
      ]
     },
     "execution_count": 11,
     "metadata": {},
     "output_type": "execute_result"
    }
   ],
   "source": [
    "days"
   ]
  },
  {
   "cell_type": "code",
   "execution_count": 12,
   "metadata": {},
   "outputs": [],
   "source": [
    "favorites = {'Tu':'Tuesday','Fr':'Friday'}"
   ]
  },
  {
   "cell_type": "code",
   "execution_count": 13,
   "metadata": {},
   "outputs": [],
   "source": [
    "#adiciona as chaves e valores ao dicionario existente\n",
    "days.update(favorites)"
   ]
  },
  {
   "cell_type": "code",
   "execution_count": 14,
   "metadata": {},
   "outputs": [
    {
     "data": {
      "text/plain": [
       "{'Fr': 'Friday',\n",
       " 'Mo': 'Monday',\n",
       " 'Sa': 'Saturday',\n",
       " 'Su': 'Domingo',\n",
       " 'Th': 'Thursday',\n",
       " 'Tu': 'Tuesday',\n",
       " 'We': 'Wednesday'}"
      ]
     },
     "execution_count": 14,
     "metadata": {},
     "output_type": "execute_result"
    }
   ],
   "source": [
    "#retorna um dicionario\n",
    "days"
   ]
  },
  {
   "cell_type": "code",
   "execution_count": 15,
   "metadata": {},
   "outputs": [
    {
     "data": {
      "text/plain": [
       "['Fr', 'Mo', 'Tu', 'We', 'Su', 'Th', 'Sa']"
      ]
     },
     "execution_count": 15,
     "metadata": {},
     "output_type": "execute_result"
    }
   ],
   "source": [
    "#retorna uma lista com as chaves\n",
    "days.keys()"
   ]
  },
  {
   "cell_type": "code",
   "execution_count": 16,
   "metadata": {},
   "outputs": [
    {
     "data": {
      "text/plain": [
       "'Fr'"
      ]
     },
     "execution_count": 16,
     "metadata": {},
     "output_type": "execute_result"
    }
   ],
   "source": [
    "#retorna uma string com a chave selecionada\n",
    "days.keys()[0]"
   ]
  },
  {
   "cell_type": "code",
   "execution_count": 44,
   "metadata": {},
   "outputs": [
    {
     "data": {
      "text/plain": [
       "['Fr', 'Mo', 'Tu']"
      ]
     },
     "execution_count": 44,
     "metadata": {},
     "output_type": "execute_result"
    }
   ],
   "source": [
    "#retorna uma lista de strings com as chaves selecionadas\n",
    "days.keys()[0:3]"
   ]
  },
  {
   "cell_type": "code",
   "execution_count": 18,
   "metadata": {},
   "outputs": [
    {
     "data": {
      "text/plain": [
       "['Friday', 'Monday', 'Tuesday', 'Wednesday', 'Domingo', 'Thursday', 'Saturday']"
      ]
     },
     "execution_count": 18,
     "metadata": {},
     "output_type": "execute_result"
    }
   ],
   "source": [
    "#retorna uma lista com os Valores\n",
    "days.values()"
   ]
  },
  {
   "cell_type": "code",
   "execution_count": 19,
   "metadata": {},
   "outputs": [
    {
     "name": "stdout",
     "output_type": "stream",
     "text": [
      "Friday\n"
     ]
    },
    {
     "data": {
      "text/plain": [
       "str"
      ]
     },
     "execution_count": 19,
     "metadata": {},
     "output_type": "execute_result"
    }
   ],
   "source": [
    "#retorna uma string com o valor selecionado\n",
    "print days.values()[0]\n",
    "type(days.values()[0])"
   ]
  },
  {
   "cell_type": "code",
   "execution_count": 20,
   "metadata": {},
   "outputs": [
    {
     "data": {
      "text/plain": [
       "['Friday', 'Monday']"
      ]
     },
     "execution_count": 20,
     "metadata": {},
     "output_type": "execute_result"
    }
   ],
   "source": [
    "#retorna uma lista de strings com os valores selecionados\n",
    "days.values()[0:2]"
   ]
  },
  {
   "cell_type": "code",
   "execution_count": 21,
   "metadata": {},
   "outputs": [
    {
     "data": {
      "text/plain": [
       "[('Fr', 'Friday'),\n",
       " ('Mo', 'Monday'),\n",
       " ('Tu', 'Tuesday'),\n",
       " ('We', 'Wednesday'),\n",
       " ('Su', 'Domingo'),\n",
       " ('Th', 'Thursday'),\n",
       " ('Sa', 'Saturday')]"
      ]
     },
     "execution_count": 21,
     "metadata": {},
     "output_type": "execute_result"
    }
   ],
   "source": [
    "#exibe os items de um dicionario como uma lista de tuplas ('chave','valor')\n",
    "days.items()"
   ]
  },
  {
   "cell_type": "code",
   "execution_count": 22,
   "metadata": {},
   "outputs": [
    {
     "name": "stdout",
     "output_type": "stream",
     "text": [
      "Fr\n",
      "Mo\n",
      "Tu\n",
      "We\n",
      "Su\n",
      "Th\n",
      "Sa\n"
     ]
    }
   ],
   "source": [
    "#iterando as chaves do dicionario\n",
    "for key in days.keys():\n",
    "    print(key)"
   ]
  },
  {
   "cell_type": "code",
   "execution_count": 23,
   "metadata": {},
   "outputs": [
    {
     "name": "stdout",
     "output_type": "stream",
     "text": [
      "Friday\n",
      "Monday\n",
      "Tuesday\n",
      "Wednesday\n",
      "Domingo\n",
      "Thursday\n",
      "Saturday\n"
     ]
    }
   ],
   "source": [
    "#iterando os valores do dicionario\n",
    "for values in days.values():\n",
    "    print(values)"
   ]
  },
  {
   "cell_type": "code",
   "execution_count": 24,
   "metadata": {},
   "outputs": [
    {
     "name": "stdout",
     "output_type": "stream",
     "text": [
      "('Fr', 'Friday')\n",
      "('Mo', 'Monday')\n",
      "('Tu', 'Tuesday')\n",
      "('We', 'Wednesday')\n",
      "('Su', 'Domingo')\n",
      "('Th', 'Thursday')\n",
      "('Sa', 'Saturday')\n"
     ]
    }
   ],
   "source": [
    "#iterando os itens do dicionario\n",
    "for item in days.items():\n",
    "    print(item)"
   ]
  },
  {
   "cell_type": "code",
   "execution_count": 25,
   "metadata": {},
   "outputs": [
    {
     "data": {
      "text/plain": [
       "'Friday'"
      ]
     },
     "execution_count": 25,
     "metadata": {},
     "output_type": "execute_result"
    }
   ],
   "source": [
    "#retornando um valor dado uma chave\n",
    "days.get('Fr')"
   ]
  },
  {
   "cell_type": "code",
   "execution_count": 26,
   "metadata": {},
   "outputs": [],
   "source": [
    "#deletando um item do dicionario\n",
    "del(days['Sa'])"
   ]
  },
  {
   "cell_type": "code",
   "execution_count": 27,
   "metadata": {},
   "outputs": [
    {
     "name": "stdout",
     "output_type": "stream",
     "text": [
      "{'Fr': 'Friday', 'Mo': 'Monday', 'Tu': 'Tuesday', 'We': 'Wednesday', 'Su': 'Domingo', 'Th': 'Thursday'}\n"
     ]
    }
   ],
   "source": [
    "print days"
   ]
  },
  {
   "cell_type": "code",
   "execution_count": 28,
   "metadata": {},
   "outputs": [
    {
     "data": {
      "text/plain": [
       "{'Fr': 'Friday',\n",
       " 'Mo': 'Monday',\n",
       " 'Su': 'Domingo',\n",
       " 'Th': 'Thursday',\n",
       " 'Tu': 'Tuesday',\n",
       " 'We': 'Wednesday'}"
      ]
     },
     "execution_count": 28,
     "metadata": {},
     "output_type": "execute_result"
    }
   ],
   "source": [
    "days"
   ]
  },
  {
   "cell_type": "code",
   "execution_count": 29,
   "metadata": {},
   "outputs": [],
   "source": [
    "# Dicionario como substituto de if, elif e else (programa que dado uma abreviação, ele retorna o dia completo)\n",
    "def complete(abbreviation):\n",
    "    if abbreviation == 'Fr':\n",
    "        return 'Friday'\n",
    "    elif abbreviation == 'Mo':\n",
    "        return 'Monday'\n",
    "    elif abbreviation == 'Sa':\n",
    "        return 'Saturday'\n",
    "    elif abbreviation == 'Th':\n",
    "        return 'Thursday'\n",
    "    elif abbreviation == 'Tu':\n",
    "        return 'Tuesday'\n",
    "    else: return 'Wednesday'"
   ]
  },
  {
   "cell_type": "code",
   "execution_count": 30,
   "metadata": {},
   "outputs": [
    {
     "data": {
      "text/plain": [
       "'Tuesday'"
      ]
     },
     "execution_count": 30,
     "metadata": {},
     "output_type": "execute_result"
    }
   ],
   "source": [
    "complete('Tu')"
   ]
  },
  {
   "cell_type": "code",
   "execution_count": 31,
   "metadata": {},
   "outputs": [],
   "source": [
    "# O retorno é feito com a localização do valor dada a chave passada como parametro para a função\n",
    "def complete_dict(abbreviation):\n",
    "    days = {'Su':'Sunday','Mo':'Monday','Tu':'Tuesday','We':'Wednesday',\n",
    "            'Th':'Thursday','Fr':'Friday','Sa':'Saturday'}\n",
    "    return days[abbreviation]"
   ]
  },
  {
   "cell_type": "code",
   "execution_count": 32,
   "metadata": {},
   "outputs": [
    {
     "data": {
      "text/plain": [
       "'Tuesday'"
      ]
     },
     "execution_count": 32,
     "metadata": {},
     "output_type": "execute_result"
    }
   ],
   "source": [
    "complete_dict('Tu')"
   ]
  },
  {
   "cell_type": "code",
   "execution_count": 33,
   "metadata": {},
   "outputs": [],
   "source": [
    "#Dicionario como uma coleção de contadores\n",
    "students = ['Cindy','John','Cindy','Adam','Adam','Jimmy','Joan','Cindy','Joan']"
   ]
  },
  {
   "cell_type": "code",
   "execution_count": 34,
   "metadata": {},
   "outputs": [],
   "source": [
    "'''\n",
    "Queremos contar quantas vezes cada nome se repete na lista acima. \n",
    "Definimos a função frequency para realizar essa tarefa.\n",
    "Ela recebe uma lista dos elementos nos quais queremos contar e retorna um dicionario\n",
    "com as contagens de cada nome\n",
    "'''\n",
    "def frequency(itemlist):\n",
    "    counters = {}\n",
    "    for item in itemlist:\n",
    "        if item in counters:\n",
    "            counters[item] += 1\n",
    "        else: \n",
    "            counters[item] = 1\n",
    "    return counters"
   ]
  },
  {
   "cell_type": "code",
   "execution_count": 35,
   "metadata": {},
   "outputs": [
    {
     "data": {
      "text/plain": [
       "{'Adam': 2, 'Cindy': 3, 'Jimmy': 1, 'Joan': 2, 'John': 1}"
      ]
     },
     "execution_count": 35,
     "metadata": {},
     "output_type": "execute_result"
    }
   ],
   "source": [
    "#Quantidade de estudantes por nome\n",
    "frequency(students)"
   ]
  },
  {
   "cell_type": "code",
   "execution_count": 36,
   "metadata": {},
   "outputs": [],
   "source": [
    "text = \"all animals are equal but some animals are more equal than ohers\""
   ]
  },
  {
   "cell_type": "code",
   "execution_count": 37,
   "metadata": {},
   "outputs": [],
   "source": [
    "text = text.split(\" \")"
   ]
  },
  {
   "cell_type": "code",
   "execution_count": 38,
   "metadata": {},
   "outputs": [
    {
     "name": "stdout",
     "output_type": "stream",
     "text": [
      "['all', 'animals', 'are', 'equal', 'but', 'some', 'animals', 'are', 'more', 'equal', 'than', 'ohers']\n"
     ]
    }
   ],
   "source": [
    "print(text)"
   ]
  },
  {
   "cell_type": "code",
   "execution_count": 39,
   "metadata": {},
   "outputs": [],
   "source": [
    "#No seguinte exemplo, vamos contar a frequencia de palavras em um paragrafo usando a mesma técnica\n",
    "def wordCount(text):\n",
    "    \n",
    "    counters = {}\n",
    "    \n",
    "    for word in text:\n",
    "        if word in counters:\n",
    "            counters[word] += 1\n",
    "            \n",
    "        else: \n",
    "            counters[word] = 1\n",
    "            \n",
    "    printStats(counters)    "
   ]
  },
  {
   "cell_type": "code",
   "execution_count": 40,
   "metadata": {},
   "outputs": [],
   "source": [
    "#procedimento que imprime formatado a palavra e o numero de ocorrências.\n",
    "def printStats(stringsCount):\n",
    "    \n",
    "    for item in stringsCount.items():\n",
    "        \n",
    "        if item[1] == 1:\n",
    "            print(\"{}\".format(item[0]).ljust(8) + \" appears 1 time.\")\n",
    "            \n",
    "        else:\n",
    "            print(\"{}\".format(item[0]).ljust(8) + \" appears {} times.\".format(item[1]))"
   ]
  },
  {
   "cell_type": "code",
   "execution_count": 41,
   "metadata": {},
   "outputs": [
    {
     "name": "stdout",
     "output_type": "stream",
     "text": [
      "all      appears 1 time.\n",
      "animals  appears 2 times.\n",
      "some     appears 1 time.\n",
      "equal    appears 2 times.\n",
      "but      appears 1 time.\n",
      "ohers    appears 1 time.\n",
      "are      appears 2 times.\n",
      "than     appears 1 time.\n",
      "more     appears 1 time.\n"
     ]
    }
   ],
   "source": [
    "wordCount(text)"
   ]
  },
  {
   "cell_type": "code",
   "execution_count": 42,
   "metadata": {},
   "outputs": [
    {
     "data": {
      "text/plain": [
       "{('Anna', 'Katerina'): '(111)111-11-11',\n",
       " ('Hans', 'Corps'): '(333)333-33-33',\n",
       " ('Yu', 'Tsun'): '(222)222-22-22'}"
      ]
     },
     "execution_count": 42,
     "metadata": {},
     "output_type": "execute_result"
    }
   ],
   "source": [
    "#Objetos como chave de dicionarios - Tuplas são imutaveis, por isso elas podem ser chaves diferentes de listas\n",
    "phonebook = {('Anna','Katerina'):'(111)111-11-11',('Yu','Tsun'):'(222)222-22-22',('Hans','Corps'):'(333)333-33-33'}\n",
    "phonebook"
   ]
  },
  {
   "cell_type": "code",
   "execution_count": 43,
   "metadata": {},
   "outputs": [
    {
     "data": {
      "text/plain": [
       "'(111)111-11-11'"
      ]
     },
     "execution_count": 43,
     "metadata": {},
     "output_type": "execute_result"
    }
   ],
   "source": [
    "#acessando registro com uma tupla\n",
    "phonebook[('Anna','Katerina')]"
   ]
  },
  {
   "cell_type": "code",
   "execution_count": null,
   "metadata": {},
   "outputs": [],
   "source": []
  },
  {
   "cell_type": "code",
   "execution_count": null,
   "metadata": {},
   "outputs": [],
   "source": []
  },
  {
   "cell_type": "code",
   "execution_count": null,
   "metadata": {},
   "outputs": [],
   "source": []
  }
 ],
 "metadata": {
  "kernelspec": {
   "display_name": "Python 2",
   "language": "python",
   "name": "python2"
  },
  "language_info": {
   "codemirror_mode": {
    "name": "ipython",
    "version": 2
   },
   "file_extension": ".py",
   "mimetype": "text/x-python",
   "name": "python",
   "nbconvert_exporter": "python",
   "pygments_lexer": "ipython2",
   "version": "2.7.5"
  }
 },
 "nbformat": 4,
 "nbformat_minor": 2
}
