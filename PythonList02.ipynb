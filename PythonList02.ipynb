{
 "cells": [
  {
   "cell_type": "markdown",
   "metadata": {},
   "source": [
    "# Listas\n",
    "\n",
    "## Métodos\n",
    "<br>\n",
    "Métodos mais utilizados para manipulação de listas. Definição e exemplos de aplicação."
   ]
  },
  {
   "cell_type": "markdown",
   "metadata": {},
   "source": [
    "__append( n )__ - Adiciona um elemento __'n'__ no final da lista"
   ]
  },
  {
   "cell_type": "code",
   "execution_count": 2,
   "metadata": {},
   "outputs": [
    {
     "name": "stdout",
     "output_type": "stream",
     "text": [
      "[1, 2, 3, 4, 5, 6, 7, 8, 9, 10]\n"
     ]
    }
   ],
   "source": [
    "lista = [1, 2, 3, 4, 5, 6, 7, 8, 9]\n",
    "lista.append(10)\n",
    "print(lista)"
   ]
  },
  {
   "cell_type": "markdown",
   "metadata": {},
   "source": [
    "__clear( )__ - Remove todos os elementos da lista (Em Python 2.7 não existe esse método)"
   ]
  },
  {
   "cell_type": "code",
   "execution_count": 6,
   "metadata": {},
   "outputs": [
    {
     "name": "stdout",
     "output_type": "stream",
     "text": [
      "[1, 2, 3, 4, 5, 6, 7, 8, 9]\n",
      "[]\n"
     ]
    }
   ],
   "source": [
    "lista = [1, 2, 3, 4, 5, 6, 7, 8, 9]\n",
    "print(lista)\n",
    "\n",
    "# aplicando o método clear() na lista\n",
    "lista.clear()\n",
    "print(lista)"
   ]
  },
  {
   "cell_type": "markdown",
   "metadata": {},
   "source": [
    "__copy( )__ - Retorna uma cópia da lista"
   ]
  },
  {
   "cell_type": "code",
   "execution_count": 10,
   "metadata": {},
   "outputs": [
    {
     "name": "stdout",
     "output_type": "stream",
     "text": [
      "[1, 2, 3, 4, 5, 6, 7, 8, 9]\n",
      "[]\n",
      "[1, 2, 3, 4, 5, 6, 7, 8, 9]\n"
     ]
    }
   ],
   "source": [
    "lista = [1, 2, 3, 4, 5, 6, 7, 8, 9]\n",
    "print(lista)\n",
    "\n",
    "# criando uma lista vazia\n",
    "copia = []\n",
    "print(copia)\n",
    "\n",
    "# aplicando o método copy() na lista\n",
    "copia = lista.copy()\n",
    "print(copia)"
   ]
  },
  {
   "cell_type": "markdown",
   "metadata": {},
   "source": [
    "__count( n )__ - Retorna o número de elementos com o valor especificado __'n'__"
   ]
  },
  {
   "cell_type": "code",
   "execution_count": 13,
   "metadata": {},
   "outputs": [
    {
     "name": "stdout",
     "output_type": "stream",
     "text": [
      "[1, 2, 3, 3, 3, 3, 7, 8, 9]\n"
     ]
    },
    {
     "data": {
      "text/plain": [
       "4"
      ]
     },
     "execution_count": 13,
     "metadata": {},
     "output_type": "execute_result"
    }
   ],
   "source": [
    "lista = [1, 2, 3, 3, 3, 3, 7, 8, 9]\n",
    "print(lista)\n",
    "\n",
    "# Contando quantas são as ocorrências do numero 3 na lista\n",
    "lista.count(3)"
   ]
  },
  {
   "cell_type": "markdown",
   "metadata": {},
   "source": [
    "__extend( iterável )__ - Adiciona os elementos de uma lista (ou qualquer iterável) ao final da lista atual"
   ]
  },
  {
   "cell_type": "code",
   "execution_count": 20,
   "metadata": {},
   "outputs": [
    {
     "name": "stdout",
     "output_type": "stream",
     "text": [
      "[1, 2, 3, 4, 5, 6, 7]\n",
      "[1, 2, 3, 4, 5, 6, 7, 8, 9, 10]\n",
      "[1, 2, 3, 4, 5, 6, 7, 8, 9, 10, 11, 12, 13]\n"
     ]
    }
   ],
   "source": [
    "lista = [1, 2, 3, 4, 5, 6, 7]\n",
    "print(lista)\n",
    "\n",
    "# inserindo o conteúdo de uma tupla ao final de uma lista\n",
    "lista.extend((8,9,10))\n",
    "print(lista)\n",
    "\n",
    "# inserindo o conteúdo de uma lista ao final de outra lista\n",
    "lista.extend([11, 12, 13])\n",
    "print(lista)"
   ]
  },
  {
   "cell_type": "markdown",
   "metadata": {},
   "source": [
    "__index( n, início , fim )__ - Retorna o índice do primeiro elemento com o valor especificado __'n'__ entre os índices escolhidos ou na lista inteira."
   ]
  },
  {
   "cell_type": "code",
   "execution_count": 33,
   "metadata": {},
   "outputs": [
    {
     "name": "stdout",
     "output_type": "stream",
     "text": [
      "A primeira aparição da palavra 'id', a partir do índice 6 até o 20 tem o índice: 14\n"
     ]
    }
   ],
   "source": [
    "lista = ['Per', 'fuisset', 'rationibus', 'percipitur', 'at,', 'id', 'sed', 'ipsum', 'clita.', 'Ea', 'est', 'omnium',\\\n",
    "         'oblique', 'placerat.', 'id', 'quaestio', 'intellegam', 'pro.', 'No', 'libris', 'tamquam', 'praesent', 'his.',\\\n",
    "         'Eos', 'doming', 'dolores', 'id,', 'alii', 'voluptatum', 'nam', 'te,', 'vix', 'sint', 'libris', 'diceret',\\\n",
    "         'no.', 'Vis', 'id', 'labore', 'prompta.']\n",
    "\n",
    "print(\"A primeira aparição da palavra 'id', a partir do índice 6 até o 20 tem o índice:\", lista.index('id', 6, 20))"
   ]
  },
  {
   "cell_type": "markdown",
   "metadata": {},
   "source": [
    "__insert( i, n )__ - Adiciona um elemento __'n'__ na posição __'i'__ especificada"
   ]
  },
  {
   "cell_type": "code",
   "execution_count": 36,
   "metadata": {},
   "outputs": [
    {
     "name": "stdout",
     "output_type": "stream",
     "text": [
      "Lista original - [1, 2, 3, 5, 6, 7]\n",
      "Lista com o novo elemento - [1, 2, 3, 4, 5, 6, 7]\n"
     ]
    }
   ],
   "source": [
    "lista = [1, 2, 3, 5, 6, 7]\n",
    "print(\"Lista original -\", lista)\n",
    "\n",
    "lista.insert(3,4)\n",
    "print(\"Lista com o novo elemento -\", lista)"
   ]
  },
  {
   "cell_type": "markdown",
   "metadata": {},
   "source": [
    "__pop( i )__ - Remove o elemento na posição especificada __'i'__"
   ]
  },
  {
   "cell_type": "code",
   "execution_count": 41,
   "metadata": {},
   "outputs": [
    {
     "name": "stdout",
     "output_type": "stream",
     "text": [
      "Retirando o ultimo elemento, a função funciona como uma pilha - 7\n",
      "Retirando o primeiro elemento através do índice passado. o método funciona como o pop de uma pilha - 1\n",
      "[2, 3, 5, 6]\n"
     ]
    }
   ],
   "source": [
    "lista = [1, 2, 3, 5, 6, 7]\n",
    "\n",
    "# removendo sem definir o indice funciona como uma pilha\n",
    "print(\"Retirando o ultimo elemento, a função funciona como uma pilha -\", lista.pop())\n",
    "\n",
    "# removendo definindo o índice\n",
    "print(\"Retirando o primeiro elemento através do índice passado. o método funciona como o pop de uma pilha -\", lista.pop(0))\n",
    "\n",
    "# resultado final\n",
    "print(lista)"
   ]
  },
  {
   "cell_type": "markdown",
   "metadata": {},
   "source": [
    "__remove( )__ - Remove o primeiro item com o valor especificado"
   ]
  },
  {
   "cell_type": "code",
   "execution_count": 47,
   "metadata": {},
   "outputs": [
    {
     "name": "stdout",
     "output_type": "stream",
     "text": [
      "['fuisset', 'rationibus', 'percipitur', 'at,', 'id', 'sed', 'ipsum', 'clita.', 'Ea', 'est', 'omnium', 'oblique', 'placerat.', 'id', 'quaestio', 'intellegam', 'pro.', 'No', 'libris', 'tamquam', 'praesent', 'his.', 'Eos', 'doming', 'dolores', 'id,', 'alii', 'voluptatum', 'nam', 'te,', 'vix', 'sint', 'libris', 'diceret', 'no.', 'Vis', 'id', 'labore', 'prompta.']\n",
      "\n",
      "['rationibus', 'percipitur', 'at,', 'id', 'sed', 'ipsum', 'clita.', 'Ea', 'est', 'omnium', 'oblique', 'placerat.', 'id', 'quaestio', 'intellegam', 'pro.', 'No', 'libris', 'tamquam', 'praesent', 'his.', 'Eos', 'doming', 'dolores', 'id,', 'alii', 'voluptatum', 'nam', 'te,', 'vix', 'sint', 'libris', 'diceret', 'no.', 'Vis', 'id', 'labore', 'prompta.']\n"
     ]
    }
   ],
   "source": [
    "lista = ['Per', 'fuisset', 'rationibus', 'percipitur', 'at,', 'id', 'sed', 'ipsum', 'clita.', 'Ea', 'est', 'omnium',\\\n",
    "         'oblique', 'placerat.', 'id', 'quaestio', 'intellegam', 'pro.', 'No', 'libris', 'tamquam', 'praesent', 'his.',\\\n",
    "         'Eos', 'doming', 'dolores', 'id,', 'alii', 'voluptatum', 'nam', 'te,', 'vix', 'sint', 'libris', 'diceret',\\\n",
    "         'no.', 'Vis', 'id', 'labore', 'prompta.']\n",
    "\n",
    "lista.remove(\"Per\")\n",
    "print(lista)\n",
    "print()\n",
    "lista.remove(\"fuisset\")\n",
    "print(lista)"
   ]
  },
  {
   "cell_type": "markdown",
   "metadata": {},
   "source": [
    "\n",
    "__reverse( )__ - Inverte a ordem da lista\n"
   ]
  },
  {
   "cell_type": "code",
   "execution_count": 51,
   "metadata": {},
   "outputs": [
    {
     "name": "stdout",
     "output_type": "stream",
     "text": [
      "[7, 6, 5, 3, 2, 1]\n"
     ]
    }
   ],
   "source": [
    "lista = [1, 2, 3, 5, 6, 7]\n",
    "\n",
    "lista.reverse()\n",
    "print(lista)"
   ]
  },
  {
   "cell_type": "markdown",
   "metadata": {},
   "source": [
    "__sort( key=None, reverse=False )__ - Classifica em ordem crescente a lista por padrão.\n",
    "\n",
    "Parâmentros:\n",
    "\n",
    "__key__ - Especifica uma função de um argumento que é usado para extrair uma chave de comparação de cada elemento da lista. O valor padrão é __None__ (compara os elementos diretamente).\n",
    "\n",
    "__reverse__ - Valor booleano. Se definido como __True__, os elementos da lista serão classificados como se cada comparação fosse invertida."
   ]
  },
  {
   "cell_type": "code",
   "execution_count": 58,
   "metadata": {},
   "outputs": [
    {
     "name": "stdout",
     "output_type": "stream",
     "text": [
      "[1, 2, 3, 4, 5, 6, 7, 8, 9, 10]\n",
      "[10, 9, 8, 7, 6, 5, 4, 3, 2, 1]\n",
      "['uva', 'pêra', 'banana', 'abacaxi', 'jaboticaba']\n",
      "['jaboticaba', 'abacaxi', 'banana', 'pêra', 'uva']\n"
     ]
    }
   ],
   "source": [
    "# ordenando em ordem crescente\n",
    "lista = [4, 7, 2, 1, 3, 6, 5, 10, 9, 8]\n",
    "lista.sort()\n",
    "print(lista)\n",
    "\n",
    "# ordenando em ordem decrescente\n",
    "lista = [4, 7, 2, 1, 3, 6, 5, 10, 9, 8]\n",
    "lista.sort(reverse=True)\n",
    "print(lista)\n",
    "\n",
    "# ordenando em ordem crescente de acordo com o tamanho das strings\n",
    "lista = [\"banana\", \"jaboticaba\", \"pêra\", \"uva\", \"abacaxi\"]\n",
    "lista.sort(key=len)\n",
    "print(lista)\n",
    "\n",
    "# ordenando em ordem decrescente de acordo com o tamanho das strings\n",
    "lista = [\"banana\", \"jaboticaba\", \"pêra\", \"uva\", \"abacaxi\"]\n",
    "lista.sort(key=len, reverse=True)\n",
    "print(lista)"
   ]
  },
  {
   "cell_type": "markdown",
   "metadata": {},
   "source": [
    "## A declaração del\n",
    "\n",
    "Existe uma maneira de remover um item de uma lista, dado seu índice, em vez de seu valor: a instrução del. Isso difere do método pop () que retorna um valor. A instrução del também pode ser usada para remover fatias de uma lista ou limpar a lista inteira."
   ]
  },
  {
   "cell_type": "code",
   "execution_count": 63,
   "metadata": {},
   "outputs": [
    {
     "name": "stdout",
     "output_type": "stream",
     "text": [
      "[2, 3, 5, 6, 7]\n",
      "[5, 6, 7]\n"
     ]
    }
   ],
   "source": [
    "# Eliminando o primeiro índice através do del\n",
    "lista = [1, 2, 3, 5, 6, 7]\n",
    "del lista[0]\n",
    "print(lista)\n",
    "\n",
    "# Eliminando do primeiro índice até o através do del\n",
    "lista = [1, 2, 3, 5, 6, 7]\n",
    "del lista[0:3]\n",
    "print(lista)"
   ]
  }
 ],
 "metadata": {
  "kernelspec": {
   "display_name": "Python 3",
   "language": "python",
   "name": "python3"
  },
  "language_info": {
   "codemirror_mode": {
    "name": "ipython",
    "version": 3
   },
   "file_extension": ".py",
   "mimetype": "text/x-python",
   "name": "python",
   "nbconvert_exporter": "python",
   "pygments_lexer": "ipython3",
   "version": "3.7.3"
  }
 },
 "nbformat": 4,
 "nbformat_minor": 2
}
