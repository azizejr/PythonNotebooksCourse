{
 "cells": [
  {
   "cell_type": "markdown",
   "metadata": {},
   "source": [
    "# Programação Orientada a Objetos"
   ]
  },
  {
   "cell_type": "markdown",
   "metadata": {},
   "source": [
    "### Unificando objetos esparsos em classe \n",
    "\n",
    "No exemplo abaixo vamos criar funções que simulam funções básicas de um carro de forma simplificada. Isso são apenas algumas das várias possibilidades que você pode imaginar com um veículo.\n",
    "\n",
    "#### Características\n",
    "\n",
    "Um carro possui caracteristicas que podem únicas a alguns exemplares:\n",
    "- Cor;\n",
    "- Número de portas;\n",
    "- Fabricante;\n",
    "- Modelo;\n",
    "- Ano de Fabricação;\n",
    "- Combustível;\n",
    "- Número de placa;\n",
    "- Acessórios opcionais:\n",
    "    - Air Bag;\n",
    "    - Direção Elétrica;\n",
    "    - Ar Condicionado;\n",
    "    - Computador de Bordo;\n",
    "    - Vidro automático;\n",
    "    - GPS, entre outros;\n",
    "    \n",
    "Essas características únicas que diferem uns dos outros, principalmente no preço do carro.\n",
    "\n",
    "No nosso exemplo essas caraterísticas são representadas __variáveis__ globais que guardam as __características do veículo__ que escolhemos."
   ]
  },
  {
   "cell_type": "code",
   "execution_count": 1,
   "metadata": {},
   "outputs": [],
   "source": [
    "# Exemplos de variáveis de atríbutos\n",
    "\n",
    "cor = ''\n",
    "nPortas = 2\n",
    "fabricante = ''\n",
    "modelo = ''\n",
    "ano = 2000\n",
    "combustivel = ['Alcool','Gasolina','Híbrido']\n",
    "numeroPlaca = ''\n",
    "opcionais = {'airbag': False,\\\n",
    "            'dirEletrica': False,\\\n",
    "            'arCond': False,\\\n",
    "            'compBordo': False,\\\n",
    "            'vidroAuto': False,\\\n",
    "            'GPS': False\n",
    "            }"
   ]
  },
  {
   "cell_type": "markdown",
   "metadata": {},
   "source": [
    "#### Ações\n",
    "\n",
    "É esperado que possamos interagir com os carros através das seguintes ações, entre outras:\n",
    "\n",
    "- Abrir e fechar as portas;\n",
    "- Colocar e tirar os cintos de segurança;\n",
    "- Dar partida no motor;\n",
    "- Acelerar e brecar;\n",
    "- Virar a direita e virar a esquerda;\n",
    "\n",
    "Repare que essas ações, não são necessariamente exclusivas de carros, algumas delas você pode fazer com motos, ônibus, caminhões, avioes, barcos, etc. Ou seja, existe uma categoria mais abrangente e mais abstrata que pode incluir os meios de transporte. Vamos convenientemente chamá-las de __veículos__.\n",
    "\n",
    "Como o carro é um veículo que se desloca em um espaço em função do tempo, ele esta sujeito a mundaças de estado durante sua trajetória inicial até sua trajetória final. Devido a complexidade de todas as interações possíveis entre o piloto e o veículo, vamos exemplificar interagindo apenas com as mais simples e evidentes. \n",
    "\n",
    "Esses estados podem ser percebidos nas __variáveis de estado__:"
   ]
  },
  {
   "cell_type": "code",
   "execution_count": 2,
   "metadata": {},
   "outputs": [],
   "source": [
    "from time import sleep\n",
    "\n",
    "# Variáveis de Estado:\n",
    "global cinto, carroLigado, portaAberta, velocidade, tempoFrenagem\n",
    "cinto = ''\n",
    "carroLigado = ''\n",
    "portaAberta = []\n",
    "velocidade = 0.0    # em km/h\n",
    "tempoFrenagem = 1   # em segundos"
   ]
  },
  {
   "cell_type": "markdown",
   "metadata": {},
   "source": [
    "Podemos definir o numero de portas que queremos no nosso veículo. Normalmente temos carros com 2 ou 4 portas:"
   ]
  },
  {
   "cell_type": "code",
   "execution_count": 3,
   "metadata": {},
   "outputs": [],
   "source": [
    "def nPortas(n):\n",
    "    nPortasPossiveis = [2,4]\n",
    "    if n in nPortasPossiveis:\n",
    "        nPortas = n\n",
    "        print \"Seu carro tem %d portas\" %n\n",
    "    else:\n",
    "        print \"Numero de portas invalido, favor inserir 2 ou 4 portas\""
   ]
  },
  {
   "cell_type": "markdown",
   "metadata": {},
   "source": [
    "Para uma direção segura, devemos usar o cinto de segurança antes de dirigir:"
   ]
  },
  {
   "cell_type": "code",
   "execution_count": 4,
   "metadata": {},
   "outputs": [],
   "source": [
    "def colocarCinto():\n",
    "    global cinto\n",
    "    cinto = True\n",
    "    print \"Parabéns! Você não esqueceu do cinto!\"\n",
    "\n",
    "def tirarCinto():\n",
    "    global cinto\n",
    "    cinto = False\n",
    "    print \"Você tirou o cinto!\""
   ]
  },
  {
   "cell_type": "markdown",
   "metadata": {},
   "source": [
    "Para sairmos dirigindo, precisamos dar a partida antes porém, por segurança, devemos colocar os cintos antes!"
   ]
  },
  {
   "cell_type": "code",
   "execution_count": 5,
   "metadata": {},
   "outputs": [],
   "source": [
    "def ligarCarro():\n",
    "    if cinto == False:\n",
    "        print \"Coloque o cinto antes de dar partida!\"\n",
    "    else:\n",
    "        carroLigado = True\n",
    "        print \"Você acabou de dar partida!\\n Boa viagem!\\n Dirija com segurança!\"    \n",
    "        "
   ]
  },
  {
   "cell_type": "markdown",
   "metadata": {},
   "source": [
    "Para entrarmos no carro precisamos abrir as portas:"
   ]
  },
  {
   "cell_type": "code",
   "execution_count": 6,
   "metadata": {},
   "outputs": [],
   "source": [
    "def abrirPorta(n):\n",
    "    if carroLigado == True:\n",
    "        print \"Pare ou Desligue o carro antes de abrir a porta\"\n",
    "    else:\n",
    "        if n > nPortas:\n",
    "            print \"Este carro não tem esse numero de portas favor escolher um numero entre 1 e %d\" %nPortas\n",
    "        else:\n",
    "            if n not in portaAberta:\n",
    "                portaAberta.append(n)\n",
    "                print \"Voce abriu a porta %d\" %n\n",
    "            else:\n",
    "                print \"Esta porta ja esta aberta\"    "
   ]
  },
  {
   "cell_type": "markdown",
   "metadata": {},
   "source": [
    "Ao terminarmos não podemos esquecer de ferchar a porta!"
   ]
  },
  {
   "cell_type": "code",
   "execution_count": 7,
   "metadata": {},
   "outputs": [],
   "source": [
    "def fecharPorta(n):\n",
    "    if carroLigado == True:\n",
    "        print \"Pare ou Desligue o carro antes de fechar a porta\"\n",
    "    else:\n",
    "        if portaAberta == []:\n",
    "            print \"As portas ja estão fechadas\"\n",
    "        else: \n",
    "            portaAberta.remove(n)\n",
    "            print \"Você fechou a porta %d\" %n            "
   ]
  },
  {
   "cell_type": "markdown",
   "metadata": {},
   "source": [
    "Ao chegarmos ao destino, desligamos o Carro!"
   ]
  },
  {
   "cell_type": "code",
   "execution_count": 8,
   "metadata": {},
   "outputs": [],
   "source": [
    "def desligarCarro():\n",
    "    global carroLigado\n",
    "    if carroLigado == False:\n",
    "        print \"O carro ja se encontra desligado\"\n",
    "    else:       \n",
    "        carroLigado = False\n",
    "        print \"Você acabou de desligar o carro\""
   ]
  },
  {
   "cell_type": "markdown",
   "metadata": {},
   "source": [
    "Podemos acelerar..."
   ]
  },
  {
   "cell_type": "code",
   "execution_count": 9,
   "metadata": {},
   "outputs": [],
   "source": [
    "def acelerar(vel): \n",
    "    if carroLigado == False:\n",
    "        print \"Acelerar com o carro desligado pode causar danos a seu veículo!\"\n",
    "    else:\n",
    "        if vel > 55.0:\n",
    "            print \"Muito rapido diminua um pouco\"\n",
    "        else:\n",
    "            global velocidade \n",
    "            velocidade = vel\n",
    "            print \"Nova velocidade %.2f\" %velocidade"
   ]
  },
  {
   "cell_type": "markdown",
   "metadata": {},
   "source": [
    "Devemos frear as vezes..."
   ]
  },
  {
   "cell_type": "code",
   "execution_count": 10,
   "metadata": {},
   "outputs": [],
   "source": [
    "def frear(vel): \n",
    "    if carroLigado == False or vel == 0:\n",
    "        print \"Você ja esta parado! tire o pé do Freio\"\n",
    "    else:\n",
    "        if vel <= 60:\n",
    "            slp = 0.1\n",
    "        else:\n",
    "            slp = 1        \n",
    "        while vel > 0:\n",
    "            vel -= 5\n",
    "            sleep(slp)\n",
    "            print(\"Reduzindo para %d km\\\\h\" %vel)        "
   ]
  },
  {
   "cell_type": "markdown",
   "metadata": {},
   "source": [
    "E ao menos que você esteja em uma pista de testes, poder virar a esqueda e a direita, será bem útil!"
   ]
  },
  {
   "cell_type": "code",
   "execution_count": 11,
   "metadata": {},
   "outputs": [],
   "source": [
    "def virarDireita():\n",
    "    frear(velocidade)\n",
    "    print \"Você virou a direita\"\n",
    "    acelerar(40)\n",
    "    \n",
    "def virarEsquerda():\n",
    "    frear(velocidade)\n",
    "    print \"Você virou a esquerda\"\n",
    "    acelerar(40)"
   ]
  },
  {
   "cell_type": "markdown",
   "metadata": {},
   "source": [
    "Veja o que acontece se seguirmos a sequência esperada de ações."
   ]
  },
  {
   "cell_type": "code",
   "execution_count": 12,
   "metadata": {},
   "outputs": [
    {
     "name": "stdout",
     "output_type": "stream",
     "text": [
      "Seu carro tem 4 portas\n",
      "Voce abriu a porta 1\n",
      "[1]\n",
      "Parabéns! Você não esqueceu do cinto!\n",
      "Você fechou a porta 1\n",
      "[]\n",
      "Você acabou de dar partida!\n",
      " Boa viagem!\n",
      " Dirija com segurança!\n",
      "Nova velocidade 50.00\n",
      "Reduzindo para 45 km\\h\n",
      "Reduzindo para 40 km\\h\n",
      "Reduzindo para 35 km\\h\n",
      "Reduzindo para 30 km\\h\n",
      "Reduzindo para 25 km\\h\n",
      "Reduzindo para 20 km\\h\n",
      "Reduzindo para 15 km\\h\n",
      "Reduzindo para 10 km\\h\n",
      "Reduzindo para 5 km\\h\n",
      "Reduzindo para 0 km\\h\n",
      "Nova velocidade 40.00\n",
      "Reduzindo para 35 km\\h\n",
      "Reduzindo para 30 km\\h\n",
      "Reduzindo para 25 km\\h\n",
      "Reduzindo para 20 km\\h\n",
      "Reduzindo para 15 km\\h\n",
      "Reduzindo para 10 km\\h\n",
      "Reduzindo para 5 km\\h\n",
      "Reduzindo para 0 km\\h\n",
      "Você virou a direita\n",
      "Nova velocidade 40.00\n",
      "Reduzindo para 35 km\\h\n",
      "Reduzindo para 30 km\\h\n",
      "Reduzindo para 25 km\\h\n",
      "Reduzindo para 20 km\\h\n",
      "Reduzindo para 15 km\\h\n",
      "Reduzindo para 10 km\\h\n",
      "Reduzindo para 5 km\\h\n",
      "Reduzindo para 0 km\\h\n",
      "Você virou a esquerda\n",
      "Nova velocidade 40.00\n",
      "Reduzindo para 35 km\\h\n",
      "Reduzindo para 30 km\\h\n",
      "Reduzindo para 25 km\\h\n",
      "Reduzindo para 20 km\\h\n",
      "Reduzindo para 15 km\\h\n",
      "Reduzindo para 10 km\\h\n",
      "Reduzindo para 5 km\\h\n",
      "Reduzindo para 0 km\\h\n",
      "Você acabou de desligar o carro\n",
      "Você tirou o cinto!\n",
      "Voce abriu a porta 1\n",
      "Você fechou a porta 1\n"
     ]
    }
   ],
   "source": [
    "# Exemplo de execução do método carro em uma sequencia normal dos fatos:\n",
    "# Para usar o carro, precisamos abrir a porta, fechá-la, colocar o cinto, dar partida e acelerar para partir com o carro.\n",
    "# Para virarmos à esquerda ou à direita, precisamos desacelerar para fazer uma curva.\n",
    "# Ao chegarmos no destino, paramos o carro, desligamos, tiramos o cinto, abrimos a porta, saimos e fechamos a porta.\n",
    "\n",
    "nPortas(4)\n",
    "abrirPorta(1)\n",
    "print portaAberta\n",
    "colocarCinto()\n",
    "fecharPorta(1)\n",
    "print portaAberta\n",
    "ligarCarro()\n",
    "acelerar(50)\n",
    "frear(velocidade)\n",
    "acelerar(40)\n",
    "virarDireita()\n",
    "virarEsquerda()\n",
    "frear(velocidade)\n",
    "desligarCarro()\n",
    "tirarCinto()\n",
    "abrirPorta(1)\n",
    "fecharPorta(1)"
   ]
  }
 ],
 "metadata": {
  "kernelspec": {
   "display_name": "Python 2",
   "language": "python",
   "name": "python2"
  },
  "language_info": {
   "codemirror_mode": {
    "name": "ipython",
    "version": 2
   },
   "file_extension": ".py",
   "mimetype": "text/x-python",
   "name": "python",
   "nbconvert_exporter": "python",
   "pygments_lexer": "ipython2",
   "version": "2.7.5"
  }
 },
 "nbformat": 4,
 "nbformat_minor": 2
}
